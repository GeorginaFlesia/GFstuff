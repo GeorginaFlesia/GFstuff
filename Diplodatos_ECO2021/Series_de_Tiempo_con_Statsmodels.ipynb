{
  "nbformat": 4,
  "nbformat_minor": 0,
  "metadata": {
    "colab": {
      "name": "Series de Tiempo con Statsmodels.ipynb",
      "provenance": [],
      "collapsed_sections": [],
      "toc_visible": true,
      "include_colab_link": true
    },
    "kernelspec": {
      "name": "python3",
      "display_name": "Python 3"
    },
    "language_info": {
      "name": "python"
    }
  },
  "cells": [
    {
      "cell_type": "markdown",
      "metadata": {
        "id": "view-in-github",
        "colab_type": "text"
      },
      "source": [
        "<a href=\"https://colab.research.google.com/github/GeorginaFlesia/GFstuff/blob/master/Series_de_Tiempo_con_Statsmodels.ipynb\" target=\"_parent\"><img src=\"https://colab.research.google.com/assets/colab-badge.svg\" alt=\"Open In Colab\"/></a>"
      ]
    },
    {
      "cell_type": "markdown",
      "metadata": {
        "id": "SAw_7WrEBRiD"
      },
      "source": [
        "# Series de Tiempo con Statsmodels"
      ]
    },
    {
      "cell_type": "code",
      "metadata": {
        "id": "2WJZhZpg_t4q",
        "colab": {
          "base_uri": "https://localhost:8080/"
        },
        "outputId": "e5e24395-aa79-4c57-b3bc-fd3cc6c5d483"
      },
      "source": [
        "import numpy as np\n",
        "import pandas as pd\n",
        "import statsmodels.api as sm\n",
        "import statsmodels.formula.api as smf\n",
        "import seaborn as sns\n",
        "import plotly.express as px"
      ],
      "execution_count": null,
      "outputs": [
        {
          "output_type": "stream",
          "text": [
            "/usr/local/lib/python3.7/dist-packages/statsmodels/tools/_testing.py:19: FutureWarning: pandas.util.testing is deprecated. Use the functions in the public API at pandas.testing instead.\n",
            "  import pandas.util.testing as tm\n"
          ],
          "name": "stderr"
        }
      ]
    },
    {
      "cell_type": "code",
      "metadata": {
        "id": "k-WDOlPOPQht",
        "colab": {
          "base_uri": "https://localhost:8080/"
        },
        "outputId": "92330864-7c7d-4ba6-d34c-1bb3e9b163f4"
      },
      "source": [
        "from google.colab import drive\n",
        "drive.mount(\"/content/drive\")"
      ],
      "execution_count": null,
      "outputs": [
        {
          "output_type": "stream",
          "text": [
            "Drive already mounted at /content/drive; to attempt to forcibly remount, call drive.mount(\"/content/drive\", force_remount=True).\n"
          ],
          "name": "stdout"
        }
      ]
    },
    {
      "cell_type": "code",
      "metadata": {
        "id": "jz8a71suG7W0"
      },
      "source": [
        "path = '/content/drive/MyDrive/Diplomatura Economicas/Recursos/sh_ipc_03_21.xls'\n",
        "df = pd.read_excel(path, sheet_name='Índices IPC Cobertura Nacional',\n",
        "                   skiprows=5)"
      ],
      "execution_count": null,
      "outputs": []
    },
    {
      "cell_type": "code",
      "metadata": {
        "colab": {
          "base_uri": "https://localhost:8080/",
          "height": 374
        },
        "id": "b7HyrcIGHJtL",
        "outputId": "9b30819c-e696-4f76-d8e4-208606a57259"
      },
      "source": [
        "df.head()"
      ],
      "execution_count": null,
      "outputs": [
        {
          "output_type": "execute_result",
          "data": {
            "text/html": [
              "<div>\n",
              "<style scoped>\n",
              "    .dataframe tbody tr th:only-of-type {\n",
              "        vertical-align: middle;\n",
              "    }\n",
              "\n",
              "    .dataframe tbody tr th {\n",
              "        vertical-align: top;\n",
              "    }\n",
              "\n",
              "    .dataframe thead th {\n",
              "        text-align: right;\n",
              "    }\n",
              "</style>\n",
              "<table border=\"1\" class=\"dataframe\">\n",
              "  <thead>\n",
              "    <tr style=\"text-align: right;\">\n",
              "      <th></th>\n",
              "      <th>Total nacional</th>\n",
              "      <th>2016-12-01 00:00:00</th>\n",
              "      <th>2017-01-01 00:00:00</th>\n",
              "      <th>2017-02-01 00:00:00</th>\n",
              "      <th>2017-03-01 00:00:00</th>\n",
              "      <th>2017-04-01 00:00:00</th>\n",
              "      <th>2017-05-01 00:00:00</th>\n",
              "      <th>2017-06-01 00:00:00</th>\n",
              "      <th>2017-07-01 00:00:00</th>\n",
              "      <th>2017-08-01 00:00:00</th>\n",
              "      <th>2017-09-01 00:00:00</th>\n",
              "      <th>2017-10-01 00:00:00</th>\n",
              "      <th>2017-11-01 00:00:00</th>\n",
              "      <th>2017-12-01 00:00:00</th>\n",
              "      <th>2018-01-01 00:00:00</th>\n",
              "      <th>2018-02-01 00:00:00</th>\n",
              "      <th>2018-03-01 00:00:00</th>\n",
              "      <th>2018-04-01 00:00:00</th>\n",
              "      <th>2018-05-01 00:00:00</th>\n",
              "      <th>2018-06-01 00:00:00</th>\n",
              "      <th>2018-07-01 00:00:00</th>\n",
              "      <th>2018-08-01 00:00:00</th>\n",
              "      <th>2018-09-01 00:00:00</th>\n",
              "      <th>2018-10-01 00:00:00</th>\n",
              "      <th>2018-11-01 00:00:00</th>\n",
              "      <th>2018-12-01 00:00:00</th>\n",
              "      <th>2019-01-01 00:00:00</th>\n",
              "      <th>2019-02-01 00:00:00</th>\n",
              "      <th>2019-03-01 00:00:00</th>\n",
              "      <th>2019-04-01 00:00:00</th>\n",
              "      <th>2019-05-01 00:00:00</th>\n",
              "      <th>2019-06-01 00:00:00</th>\n",
              "      <th>2019-07-01 00:00:00</th>\n",
              "      <th>2019-08-01 00:00:00</th>\n",
              "      <th>2019-09-01 00:00:00</th>\n",
              "      <th>2019-10-01 00:00:00</th>\n",
              "      <th>2019-11-01 00:00:00</th>\n",
              "      <th>2019-12-01 00:00:00</th>\n",
              "      <th>2020-01-01 00:00:00</th>\n",
              "      <th>2020-02-01 00:00:00</th>\n",
              "      <th>2020-03-01 00:00:00</th>\n",
              "      <th>2020-04-01 00:00:00</th>\n",
              "      <th>2020-05-01 00:00:00</th>\n",
              "      <th>2020-06-01 00:00:00</th>\n",
              "      <th>2020-07-01 00:00:00</th>\n",
              "      <th>2020-08-01 00:00:00</th>\n",
              "      <th>2020-09-01 00:00:00</th>\n",
              "      <th>2020-10-01 00:00:00</th>\n",
              "      <th>2020-11-01 00:00:00</th>\n",
              "      <th>2020-12-01 00:00:00</th>\n",
              "      <th>2021-01-01 00:00:00</th>\n",
              "      <th>2021-02-01 00:00:00</th>\n",
              "    </tr>\n",
              "  </thead>\n",
              "  <tbody>\n",
              "    <tr>\n",
              "      <th>0</th>\n",
              "      <td>NaN</td>\n",
              "      <td>NaN</td>\n",
              "      <td>NaN</td>\n",
              "      <td>NaN</td>\n",
              "      <td>NaN</td>\n",
              "      <td>NaN</td>\n",
              "      <td>NaN</td>\n",
              "      <td>NaN</td>\n",
              "      <td>NaN</td>\n",
              "      <td>NaN</td>\n",
              "      <td>NaN</td>\n",
              "      <td>NaN</td>\n",
              "      <td>NaN</td>\n",
              "      <td>NaN</td>\n",
              "      <td>NaN</td>\n",
              "      <td>NaN</td>\n",
              "      <td>NaN</td>\n",
              "      <td>NaN</td>\n",
              "      <td>NaN</td>\n",
              "      <td>NaN</td>\n",
              "      <td>NaN</td>\n",
              "      <td>NaN</td>\n",
              "      <td>NaN</td>\n",
              "      <td>NaN</td>\n",
              "      <td>NaN</td>\n",
              "      <td>NaN</td>\n",
              "      <td>NaN</td>\n",
              "      <td>NaN</td>\n",
              "      <td>NaN</td>\n",
              "      <td>NaN</td>\n",
              "      <td>NaN</td>\n",
              "      <td>NaN</td>\n",
              "      <td>NaN</td>\n",
              "      <td>NaN</td>\n",
              "      <td>NaN</td>\n",
              "      <td>NaN</td>\n",
              "      <td>NaN</td>\n",
              "      <td>NaN</td>\n",
              "      <td>NaN</td>\n",
              "      <td>NaN</td>\n",
              "      <td>NaN</td>\n",
              "      <td>NaN</td>\n",
              "      <td>NaN</td>\n",
              "      <td>NaN</td>\n",
              "      <td>NaN</td>\n",
              "      <td>NaN</td>\n",
              "      <td>NaN</td>\n",
              "      <td>NaN</td>\n",
              "      <td>NaN</td>\n",
              "      <td>NaN</td>\n",
              "      <td>NaN</td>\n",
              "      <td>NaN</td>\n",
              "    </tr>\n",
              "    <tr>\n",
              "      <th>1</th>\n",
              "      <td>Nivel general y divisiones COICOP</td>\n",
              "      <td>NaN</td>\n",
              "      <td>NaN</td>\n",
              "      <td>NaN</td>\n",
              "      <td>NaN</td>\n",
              "      <td>NaN</td>\n",
              "      <td>NaN</td>\n",
              "      <td>NaN</td>\n",
              "      <td>NaN</td>\n",
              "      <td>NaN</td>\n",
              "      <td>NaN</td>\n",
              "      <td>NaN</td>\n",
              "      <td>NaN</td>\n",
              "      <td>NaN</td>\n",
              "      <td>NaN</td>\n",
              "      <td>NaN</td>\n",
              "      <td>NaN</td>\n",
              "      <td>NaN</td>\n",
              "      <td>NaN</td>\n",
              "      <td>NaN</td>\n",
              "      <td>NaN</td>\n",
              "      <td>NaN</td>\n",
              "      <td>NaN</td>\n",
              "      <td>NaN</td>\n",
              "      <td>NaN</td>\n",
              "      <td>NaN</td>\n",
              "      <td>NaN</td>\n",
              "      <td>NaN</td>\n",
              "      <td>NaN</td>\n",
              "      <td>NaN</td>\n",
              "      <td>NaN</td>\n",
              "      <td>NaN</td>\n",
              "      <td>NaN</td>\n",
              "      <td>NaN</td>\n",
              "      <td>NaN</td>\n",
              "      <td>NaN</td>\n",
              "      <td>NaN</td>\n",
              "      <td>NaN</td>\n",
              "      <td>NaN</td>\n",
              "      <td>NaN</td>\n",
              "      <td>NaN</td>\n",
              "      <td>NaN</td>\n",
              "      <td>NaN</td>\n",
              "      <td>NaN</td>\n",
              "      <td>NaN</td>\n",
              "      <td>NaN</td>\n",
              "      <td>NaN</td>\n",
              "      <td>NaN</td>\n",
              "      <td>NaN</td>\n",
              "      <td>NaN</td>\n",
              "      <td>NaN</td>\n",
              "      <td>NaN</td>\n",
              "    </tr>\n",
              "    <tr>\n",
              "      <th>2</th>\n",
              "      <td>NaN</td>\n",
              "      <td>NaN</td>\n",
              "      <td>NaN</td>\n",
              "      <td>NaN</td>\n",
              "      <td>NaN</td>\n",
              "      <td>NaN</td>\n",
              "      <td>NaN</td>\n",
              "      <td>NaN</td>\n",
              "      <td>NaN</td>\n",
              "      <td>NaN</td>\n",
              "      <td>NaN</td>\n",
              "      <td>NaN</td>\n",
              "      <td>NaN</td>\n",
              "      <td>NaN</td>\n",
              "      <td>NaN</td>\n",
              "      <td>NaN</td>\n",
              "      <td>NaN</td>\n",
              "      <td>NaN</td>\n",
              "      <td>NaN</td>\n",
              "      <td>NaN</td>\n",
              "      <td>NaN</td>\n",
              "      <td>NaN</td>\n",
              "      <td>NaN</td>\n",
              "      <td>NaN</td>\n",
              "      <td>NaN</td>\n",
              "      <td>NaN</td>\n",
              "      <td>NaN</td>\n",
              "      <td>NaN</td>\n",
              "      <td>NaN</td>\n",
              "      <td>NaN</td>\n",
              "      <td>NaN</td>\n",
              "      <td>NaN</td>\n",
              "      <td>NaN</td>\n",
              "      <td>NaN</td>\n",
              "      <td>NaN</td>\n",
              "      <td>NaN</td>\n",
              "      <td>NaN</td>\n",
              "      <td>NaN</td>\n",
              "      <td>NaN</td>\n",
              "      <td>NaN</td>\n",
              "      <td>NaN</td>\n",
              "      <td>NaN</td>\n",
              "      <td>NaN</td>\n",
              "      <td>NaN</td>\n",
              "      <td>NaN</td>\n",
              "      <td>NaN</td>\n",
              "      <td>NaN</td>\n",
              "      <td>NaN</td>\n",
              "      <td>NaN</td>\n",
              "      <td>NaN</td>\n",
              "      <td>NaN</td>\n",
              "      <td>NaN</td>\n",
              "    </tr>\n",
              "    <tr>\n",
              "      <th>3</th>\n",
              "      <td>Nivel general</td>\n",
              "      <td>100</td>\n",
              "      <td>101.586</td>\n",
              "      <td>103.686</td>\n",
              "      <td>106.148</td>\n",
              "      <td>108.967</td>\n",
              "      <td>110.53</td>\n",
              "      <td>111.848</td>\n",
              "      <td>113.785</td>\n",
              "      <td>115.382</td>\n",
              "      <td>117.572</td>\n",
              "      <td>119.353</td>\n",
              "      <td>120.994</td>\n",
              "      <td>124.796</td>\n",
              "      <td>126.989</td>\n",
              "      <td>130.061</td>\n",
              "      <td>133.105</td>\n",
              "      <td>136.751</td>\n",
              "      <td>139.589</td>\n",
              "      <td>144.805</td>\n",
              "      <td>149.297</td>\n",
              "      <td>155.103</td>\n",
              "      <td>165.238</td>\n",
              "      <td>174.147</td>\n",
              "      <td>179.639</td>\n",
              "      <td>184.255</td>\n",
              "      <td>189.61</td>\n",
              "      <td>196.75</td>\n",
              "      <td>205.957</td>\n",
              "      <td>213.052</td>\n",
              "      <td>219.569</td>\n",
              "      <td>225.537</td>\n",
              "      <td>230.494</td>\n",
              "      <td>239.608</td>\n",
              "      <td>253.71</td>\n",
              "      <td>262.066</td>\n",
              "      <td>273.216</td>\n",
              "      <td>283.444</td>\n",
              "      <td>289.83</td>\n",
              "      <td>295.666</td>\n",
              "      <td>305.551</td>\n",
              "      <td>310.124</td>\n",
              "      <td>314.909</td>\n",
              "      <td>321.974</td>\n",
              "      <td>328.201</td>\n",
              "      <td>337.063</td>\n",
              "      <td>346.621</td>\n",
              "      <td>359.657</td>\n",
              "      <td>371.021</td>\n",
              "      <td>385.883</td>\n",
              "      <td>401.507</td>\n",
              "      <td>415.86</td>\n",
              "    </tr>\n",
              "    <tr>\n",
              "      <th>4</th>\n",
              "      <td>Alimentos y bebidas no alcohólicas</td>\n",
              "      <td>100</td>\n",
              "      <td>101.302</td>\n",
              "      <td>103.16</td>\n",
              "      <td>106.014</td>\n",
              "      <td>108.352</td>\n",
              "      <td>109.763</td>\n",
              "      <td>110.748</td>\n",
              "      <td>112.011</td>\n",
              "      <td>114.347</td>\n",
              "      <td>116.405</td>\n",
              "      <td>118.165</td>\n",
              "      <td>119.569</td>\n",
              "      <td>120.36</td>\n",
              "      <td>122.875</td>\n",
              "      <td>125.557</td>\n",
              "      <td>128.469</td>\n",
              "      <td>129.956</td>\n",
              "      <td>134.202</td>\n",
              "      <td>141.151</td>\n",
              "      <td>146.785</td>\n",
              "      <td>152.674</td>\n",
              "      <td>163.391</td>\n",
              "      <td>173.001</td>\n",
              "      <td>178.898</td>\n",
              "      <td>181.936</td>\n",
              "      <td>188.036</td>\n",
              "      <td>198.782</td>\n",
              "      <td>210.628</td>\n",
              "      <td>215.999</td>\n",
              "      <td>221.259</td>\n",
              "      <td>226.903</td>\n",
              "      <td>232.03</td>\n",
              "      <td>242.505</td>\n",
              "      <td>256.376</td>\n",
              "      <td>262.66</td>\n",
              "      <td>276.634</td>\n",
              "      <td>285.297</td>\n",
              "      <td>298.65</td>\n",
              "      <td>306.618</td>\n",
              "      <td>318.678</td>\n",
              "      <td>328.779</td>\n",
              "      <td>331.015</td>\n",
              "      <td>334.464</td>\n",
              "      <td>338.765</td>\n",
              "      <td>350.508</td>\n",
              "      <td>360.869</td>\n",
              "      <td>378.09</td>\n",
              "      <td>388.386</td>\n",
              "      <td>405.287</td>\n",
              "      <td>424.837</td>\n",
              "      <td>441.072</td>\n",
              "    </tr>\n",
              "  </tbody>\n",
              "</table>\n",
              "</div>"
            ],
            "text/plain": [
              "                       Total nacional  ... 2021-02-01 00:00:00\n",
              "0                                 NaN  ...                 NaN\n",
              "1   Nivel general y divisiones COICOP  ...                 NaN\n",
              "2                                 NaN  ...                 NaN\n",
              "3                       Nivel general  ...              415.86\n",
              "4  Alimentos y bebidas no alcohólicas  ...             441.072\n",
              "\n",
              "[5 rows x 52 columns]"
            ]
          },
          "metadata": {
            "tags": []
          },
          "execution_count": 4
        }
      ]
    },
    {
      "cell_type": "code",
      "metadata": {
        "id": "FkzzB3mcLoW7"
      },
      "source": [
        "ipc_gral = df.loc[3,:]"
      ],
      "execution_count": null,
      "outputs": []
    },
    {
      "cell_type": "code",
      "metadata": {
        "id": "p2Yieaw8OuE-"
      },
      "source": [
        "ipc_gral = ipc_gral.to_frame().T"
      ],
      "execution_count": null,
      "outputs": []
    },
    {
      "cell_type": "code",
      "metadata": {
        "id": "9ahyf2FuL1EK"
      },
      "source": [
        "ipc_gral = ipc_gral.set_index('Total nacional')"
      ],
      "execution_count": null,
      "outputs": []
    },
    {
      "cell_type": "code",
      "metadata": {
        "id": "FFkbKO0sO-pU"
      },
      "source": [
        "ipc_gral.columns = pd.Series(pd.to_datetime(ipc_gral.columns)).dt.strftime('%Y-%m')"
      ],
      "execution_count": null,
      "outputs": []
    },
    {
      "cell_type": "code",
      "metadata": {
        "colab": {
          "base_uri": "https://localhost:8080/",
          "height": 1000
        },
        "id": "NqoNP-WlPVI_",
        "outputId": "fa1f37ed-48e9-4333-b7b7-0e2067e842d1"
      },
      "source": [
        "ipc_gral = ipc_gral.T\n",
        "# ipc_gral.head()\n",
        "ipc_gral"
      ],
      "execution_count": null,
      "outputs": [
        {
          "output_type": "execute_result",
          "data": {
            "text/html": [
              "<div>\n",
              "<style scoped>\n",
              "    .dataframe tbody tr th:only-of-type {\n",
              "        vertical-align: middle;\n",
              "    }\n",
              "\n",
              "    .dataframe tbody tr th {\n",
              "        vertical-align: top;\n",
              "    }\n",
              "\n",
              "    .dataframe thead th {\n",
              "        text-align: right;\n",
              "    }\n",
              "</style>\n",
              "<table border=\"1\" class=\"dataframe\">\n",
              "  <thead>\n",
              "    <tr style=\"text-align: right;\">\n",
              "      <th>Total nacional</th>\n",
              "      <th>Nivel general</th>\n",
              "    </tr>\n",
              "  </thead>\n",
              "  <tbody>\n",
              "    <tr>\n",
              "      <th>2016-12</th>\n",
              "      <td>100</td>\n",
              "    </tr>\n",
              "    <tr>\n",
              "      <th>2017-01</th>\n",
              "      <td>101.586</td>\n",
              "    </tr>\n",
              "    <tr>\n",
              "      <th>2017-02</th>\n",
              "      <td>103.686</td>\n",
              "    </tr>\n",
              "    <tr>\n",
              "      <th>2017-03</th>\n",
              "      <td>106.148</td>\n",
              "    </tr>\n",
              "    <tr>\n",
              "      <th>2017-04</th>\n",
              "      <td>108.967</td>\n",
              "    </tr>\n",
              "    <tr>\n",
              "      <th>2017-05</th>\n",
              "      <td>110.53</td>\n",
              "    </tr>\n",
              "    <tr>\n",
              "      <th>2017-06</th>\n",
              "      <td>111.848</td>\n",
              "    </tr>\n",
              "    <tr>\n",
              "      <th>2017-07</th>\n",
              "      <td>113.785</td>\n",
              "    </tr>\n",
              "    <tr>\n",
              "      <th>2017-08</th>\n",
              "      <td>115.382</td>\n",
              "    </tr>\n",
              "    <tr>\n",
              "      <th>2017-09</th>\n",
              "      <td>117.572</td>\n",
              "    </tr>\n",
              "    <tr>\n",
              "      <th>2017-10</th>\n",
              "      <td>119.353</td>\n",
              "    </tr>\n",
              "    <tr>\n",
              "      <th>2017-11</th>\n",
              "      <td>120.994</td>\n",
              "    </tr>\n",
              "    <tr>\n",
              "      <th>2017-12</th>\n",
              "      <td>124.796</td>\n",
              "    </tr>\n",
              "    <tr>\n",
              "      <th>2018-01</th>\n",
              "      <td>126.989</td>\n",
              "    </tr>\n",
              "    <tr>\n",
              "      <th>2018-02</th>\n",
              "      <td>130.061</td>\n",
              "    </tr>\n",
              "    <tr>\n",
              "      <th>2018-03</th>\n",
              "      <td>133.105</td>\n",
              "    </tr>\n",
              "    <tr>\n",
              "      <th>2018-04</th>\n",
              "      <td>136.751</td>\n",
              "    </tr>\n",
              "    <tr>\n",
              "      <th>2018-05</th>\n",
              "      <td>139.589</td>\n",
              "    </tr>\n",
              "    <tr>\n",
              "      <th>2018-06</th>\n",
              "      <td>144.805</td>\n",
              "    </tr>\n",
              "    <tr>\n",
              "      <th>2018-07</th>\n",
              "      <td>149.297</td>\n",
              "    </tr>\n",
              "    <tr>\n",
              "      <th>2018-08</th>\n",
              "      <td>155.103</td>\n",
              "    </tr>\n",
              "    <tr>\n",
              "      <th>2018-09</th>\n",
              "      <td>165.238</td>\n",
              "    </tr>\n",
              "    <tr>\n",
              "      <th>2018-10</th>\n",
              "      <td>174.147</td>\n",
              "    </tr>\n",
              "    <tr>\n",
              "      <th>2018-11</th>\n",
              "      <td>179.639</td>\n",
              "    </tr>\n",
              "    <tr>\n",
              "      <th>2018-12</th>\n",
              "      <td>184.255</td>\n",
              "    </tr>\n",
              "    <tr>\n",
              "      <th>2019-01</th>\n",
              "      <td>189.61</td>\n",
              "    </tr>\n",
              "    <tr>\n",
              "      <th>2019-02</th>\n",
              "      <td>196.75</td>\n",
              "    </tr>\n",
              "    <tr>\n",
              "      <th>2019-03</th>\n",
              "      <td>205.957</td>\n",
              "    </tr>\n",
              "    <tr>\n",
              "      <th>2019-04</th>\n",
              "      <td>213.052</td>\n",
              "    </tr>\n",
              "    <tr>\n",
              "      <th>2019-05</th>\n",
              "      <td>219.569</td>\n",
              "    </tr>\n",
              "    <tr>\n",
              "      <th>2019-06</th>\n",
              "      <td>225.537</td>\n",
              "    </tr>\n",
              "    <tr>\n",
              "      <th>2019-07</th>\n",
              "      <td>230.494</td>\n",
              "    </tr>\n",
              "    <tr>\n",
              "      <th>2019-08</th>\n",
              "      <td>239.608</td>\n",
              "    </tr>\n",
              "    <tr>\n",
              "      <th>2019-09</th>\n",
              "      <td>253.71</td>\n",
              "    </tr>\n",
              "    <tr>\n",
              "      <th>2019-10</th>\n",
              "      <td>262.066</td>\n",
              "    </tr>\n",
              "    <tr>\n",
              "      <th>2019-11</th>\n",
              "      <td>273.216</td>\n",
              "    </tr>\n",
              "    <tr>\n",
              "      <th>2019-12</th>\n",
              "      <td>283.444</td>\n",
              "    </tr>\n",
              "    <tr>\n",
              "      <th>2020-01</th>\n",
              "      <td>289.83</td>\n",
              "    </tr>\n",
              "    <tr>\n",
              "      <th>2020-02</th>\n",
              "      <td>295.666</td>\n",
              "    </tr>\n",
              "    <tr>\n",
              "      <th>2020-03</th>\n",
              "      <td>305.551</td>\n",
              "    </tr>\n",
              "    <tr>\n",
              "      <th>2020-04</th>\n",
              "      <td>310.124</td>\n",
              "    </tr>\n",
              "    <tr>\n",
              "      <th>2020-05</th>\n",
              "      <td>314.909</td>\n",
              "    </tr>\n",
              "    <tr>\n",
              "      <th>2020-06</th>\n",
              "      <td>321.974</td>\n",
              "    </tr>\n",
              "    <tr>\n",
              "      <th>2020-07</th>\n",
              "      <td>328.201</td>\n",
              "    </tr>\n",
              "    <tr>\n",
              "      <th>2020-08</th>\n",
              "      <td>337.063</td>\n",
              "    </tr>\n",
              "    <tr>\n",
              "      <th>2020-09</th>\n",
              "      <td>346.621</td>\n",
              "    </tr>\n",
              "    <tr>\n",
              "      <th>2020-10</th>\n",
              "      <td>359.657</td>\n",
              "    </tr>\n",
              "    <tr>\n",
              "      <th>2020-11</th>\n",
              "      <td>371.021</td>\n",
              "    </tr>\n",
              "    <tr>\n",
              "      <th>2020-12</th>\n",
              "      <td>385.883</td>\n",
              "    </tr>\n",
              "    <tr>\n",
              "      <th>2021-01</th>\n",
              "      <td>401.507</td>\n",
              "    </tr>\n",
              "    <tr>\n",
              "      <th>2021-02</th>\n",
              "      <td>415.86</td>\n",
              "    </tr>\n",
              "  </tbody>\n",
              "</table>\n",
              "</div>"
            ],
            "text/plain": [
              "Total nacional Nivel general\n",
              "2016-12                  100\n",
              "2017-01              101.586\n",
              "2017-02              103.686\n",
              "2017-03              106.148\n",
              "2017-04              108.967\n",
              "2017-05               110.53\n",
              "2017-06              111.848\n",
              "2017-07              113.785\n",
              "2017-08              115.382\n",
              "2017-09              117.572\n",
              "2017-10              119.353\n",
              "2017-11              120.994\n",
              "2017-12              124.796\n",
              "2018-01              126.989\n",
              "2018-02              130.061\n",
              "2018-03              133.105\n",
              "2018-04              136.751\n",
              "2018-05              139.589\n",
              "2018-06              144.805\n",
              "2018-07              149.297\n",
              "2018-08              155.103\n",
              "2018-09              165.238\n",
              "2018-10              174.147\n",
              "2018-11              179.639\n",
              "2018-12              184.255\n",
              "2019-01               189.61\n",
              "2019-02               196.75\n",
              "2019-03              205.957\n",
              "2019-04              213.052\n",
              "2019-05              219.569\n",
              "2019-06              225.537\n",
              "2019-07              230.494\n",
              "2019-08              239.608\n",
              "2019-09               253.71\n",
              "2019-10              262.066\n",
              "2019-11              273.216\n",
              "2019-12              283.444\n",
              "2020-01               289.83\n",
              "2020-02              295.666\n",
              "2020-03              305.551\n",
              "2020-04              310.124\n",
              "2020-05              314.909\n",
              "2020-06              321.974\n",
              "2020-07              328.201\n",
              "2020-08              337.063\n",
              "2020-09              346.621\n",
              "2020-10              359.657\n",
              "2020-11              371.021\n",
              "2020-12              385.883\n",
              "2021-01              401.507\n",
              "2021-02               415.86"
            ]
          },
          "metadata": {
            "tags": []
          },
          "execution_count": 9
        }
      ]
    },
    {
      "cell_type": "code",
      "metadata": {
        "colab": {
          "base_uri": "https://localhost:8080/",
          "height": 542
        },
        "id": "RMG5lx7BP3aO",
        "outputId": "9fa61c66-68fd-473c-eead-26f3454a1720"
      },
      "source": [
        "px.line(ipc_gral, x=ipc_gral.index, y='Nivel general')"
      ],
      "execution_count": null,
      "outputs": [
        {
          "output_type": "display_data",
          "data": {
            "text/html": [
              "<html>\n",
              "<head><meta charset=\"utf-8\" /></head>\n",
              "<body>\n",
              "    <div>\n",
              "            <script src=\"https://cdnjs.cloudflare.com/ajax/libs/mathjax/2.7.5/MathJax.js?config=TeX-AMS-MML_SVG\"></script><script type=\"text/javascript\">if (window.MathJax) {MathJax.Hub.Config({SVG: {font: \"STIX-Web\"}});}</script>\n",
              "                <script type=\"text/javascript\">window.PlotlyConfig = {MathJaxConfig: 'local'};</script>\n",
              "        <script src=\"https://cdn.plot.ly/plotly-latest.min.js\"></script>    \n",
              "            <div id=\"4429999b-4e9c-4354-bb97-505681899b84\" class=\"plotly-graph-div\" style=\"height:525px; width:100%;\"></div>\n",
              "            <script type=\"text/javascript\">\n",
              "                \n",
              "                    window.PLOTLYENV=window.PLOTLYENV || {};\n",
              "                    \n",
              "                if (document.getElementById(\"4429999b-4e9c-4354-bb97-505681899b84\")) {\n",
              "                    Plotly.newPlot(\n",
              "                        '4429999b-4e9c-4354-bb97-505681899b84',\n",
              "                        [{\"hoverlabel\": {\"namelength\": 0}, \"hovertemplate\": \"x=%{x}<br>Nivel general=%{y}\", \"legendgroup\": \"\", \"line\": {\"color\": \"#636efa\", \"dash\": \"solid\"}, \"mode\": \"lines\", \"name\": \"\", \"showlegend\": false, \"type\": \"scatter\", \"x\": [\"2016-12\", \"2017-01\", \"2017-02\", \"2017-03\", \"2017-04\", \"2017-05\", \"2017-06\", \"2017-07\", \"2017-08\", \"2017-09\", \"2017-10\", \"2017-11\", \"2017-12\", \"2018-01\", \"2018-02\", \"2018-03\", \"2018-04\", \"2018-05\", \"2018-06\", \"2018-07\", \"2018-08\", \"2018-09\", \"2018-10\", \"2018-11\", \"2018-12\", \"2019-01\", \"2019-02\", \"2019-03\", \"2019-04\", \"2019-05\", \"2019-06\", \"2019-07\", \"2019-08\", \"2019-09\", \"2019-10\", \"2019-11\", \"2019-12\", \"2020-01\", \"2020-02\", \"2020-03\", \"2020-04\", \"2020-05\", \"2020-06\", \"2020-07\", \"2020-08\", \"2020-09\", \"2020-10\", \"2020-11\", \"2020-12\", \"2021-01\", \"2021-02\"], \"xaxis\": \"x\", \"y\": [100, 101.5859, 103.6859, 106.1476, 108.9667, 110.5301, 111.8477, 113.7852, 115.3819, 117.5719, 119.3528, 120.994, 124.7956, 126.9887, 130.0606, 133.1054, 136.7512, 139.5893, 144.8053, 149.2966, 155.1034, 165.2383, 174.1473, 179.6388, 184.2552, 189.6101, 196.7501, 205.9571, 213.0517, 219.5691, 225.537, 230.494, 239.6077, 253.7102, 262.0661, 273.2158, 283.4442, 289.8299, 295.666, 305.5515, 310.1243, 314.9087, 321.9738, 328.2014, 337.0632, 346.6207, 359.657, 371.0211, 385.8826, 401.5071, 415.8595], \"yaxis\": \"y\"}],\n",
              "                        {\"legend\": {\"tracegroupgap\": 0}, \"margin\": {\"t\": 60}, \"template\": {\"data\": {\"bar\": [{\"error_x\": {\"color\": \"#2a3f5f\"}, \"error_y\": {\"color\": \"#2a3f5f\"}, \"marker\": {\"line\": {\"color\": \"#E5ECF6\", \"width\": 0.5}}, \"type\": \"bar\"}], \"barpolar\": [{\"marker\": {\"line\": {\"color\": \"#E5ECF6\", \"width\": 0.5}}, \"type\": \"barpolar\"}], \"carpet\": [{\"aaxis\": {\"endlinecolor\": \"#2a3f5f\", \"gridcolor\": \"white\", \"linecolor\": \"white\", \"minorgridcolor\": \"white\", \"startlinecolor\": \"#2a3f5f\"}, \"baxis\": {\"endlinecolor\": \"#2a3f5f\", \"gridcolor\": \"white\", \"linecolor\": \"white\", \"minorgridcolor\": \"white\", \"startlinecolor\": \"#2a3f5f\"}, \"type\": \"carpet\"}], \"choropleth\": [{\"colorbar\": {\"outlinewidth\": 0, \"ticks\": \"\"}, \"type\": \"choropleth\"}], \"contour\": [{\"colorbar\": {\"outlinewidth\": 0, \"ticks\": \"\"}, \"colorscale\": [[0.0, \"#0d0887\"], [0.1111111111111111, \"#46039f\"], [0.2222222222222222, \"#7201a8\"], [0.3333333333333333, \"#9c179e\"], [0.4444444444444444, \"#bd3786\"], [0.5555555555555556, \"#d8576b\"], [0.6666666666666666, \"#ed7953\"], [0.7777777777777778, \"#fb9f3a\"], [0.8888888888888888, \"#fdca26\"], [1.0, \"#f0f921\"]], \"type\": \"contour\"}], \"contourcarpet\": [{\"colorbar\": {\"outlinewidth\": 0, \"ticks\": \"\"}, \"type\": \"contourcarpet\"}], \"heatmap\": [{\"colorbar\": {\"outlinewidth\": 0, \"ticks\": \"\"}, \"colorscale\": [[0.0, \"#0d0887\"], [0.1111111111111111, \"#46039f\"], [0.2222222222222222, \"#7201a8\"], [0.3333333333333333, \"#9c179e\"], [0.4444444444444444, \"#bd3786\"], [0.5555555555555556, \"#d8576b\"], [0.6666666666666666, \"#ed7953\"], [0.7777777777777778, \"#fb9f3a\"], [0.8888888888888888, \"#fdca26\"], [1.0, \"#f0f921\"]], \"type\": \"heatmap\"}], \"heatmapgl\": [{\"colorbar\": {\"outlinewidth\": 0, \"ticks\": \"\"}, \"colorscale\": [[0.0, \"#0d0887\"], [0.1111111111111111, \"#46039f\"], [0.2222222222222222, \"#7201a8\"], [0.3333333333333333, \"#9c179e\"], [0.4444444444444444, \"#bd3786\"], [0.5555555555555556, \"#d8576b\"], [0.6666666666666666, \"#ed7953\"], [0.7777777777777778, \"#fb9f3a\"], [0.8888888888888888, \"#fdca26\"], [1.0, \"#f0f921\"]], \"type\": \"heatmapgl\"}], \"histogram\": [{\"marker\": {\"colorbar\": {\"outlinewidth\": 0, \"ticks\": \"\"}}, \"type\": \"histogram\"}], \"histogram2d\": [{\"colorbar\": {\"outlinewidth\": 0, \"ticks\": \"\"}, \"colorscale\": [[0.0, \"#0d0887\"], [0.1111111111111111, \"#46039f\"], [0.2222222222222222, \"#7201a8\"], [0.3333333333333333, \"#9c179e\"], [0.4444444444444444, \"#bd3786\"], [0.5555555555555556, \"#d8576b\"], [0.6666666666666666, \"#ed7953\"], [0.7777777777777778, \"#fb9f3a\"], [0.8888888888888888, \"#fdca26\"], [1.0, \"#f0f921\"]], \"type\": \"histogram2d\"}], \"histogram2dcontour\": [{\"colorbar\": {\"outlinewidth\": 0, \"ticks\": \"\"}, \"colorscale\": [[0.0, \"#0d0887\"], [0.1111111111111111, \"#46039f\"], [0.2222222222222222, \"#7201a8\"], [0.3333333333333333, \"#9c179e\"], [0.4444444444444444, \"#bd3786\"], [0.5555555555555556, \"#d8576b\"], [0.6666666666666666, \"#ed7953\"], [0.7777777777777778, \"#fb9f3a\"], [0.8888888888888888, \"#fdca26\"], [1.0, \"#f0f921\"]], \"type\": \"histogram2dcontour\"}], \"mesh3d\": [{\"colorbar\": {\"outlinewidth\": 0, \"ticks\": \"\"}, \"type\": \"mesh3d\"}], \"parcoords\": [{\"line\": {\"colorbar\": {\"outlinewidth\": 0, \"ticks\": \"\"}}, \"type\": \"parcoords\"}], \"pie\": [{\"automargin\": true, \"type\": \"pie\"}], \"scatter\": [{\"marker\": {\"colorbar\": {\"outlinewidth\": 0, \"ticks\": \"\"}}, \"type\": \"scatter\"}], \"scatter3d\": [{\"line\": {\"colorbar\": {\"outlinewidth\": 0, \"ticks\": \"\"}}, \"marker\": {\"colorbar\": {\"outlinewidth\": 0, \"ticks\": \"\"}}, \"type\": \"scatter3d\"}], \"scattercarpet\": [{\"marker\": {\"colorbar\": {\"outlinewidth\": 0, \"ticks\": \"\"}}, \"type\": \"scattercarpet\"}], \"scattergeo\": [{\"marker\": {\"colorbar\": {\"outlinewidth\": 0, \"ticks\": \"\"}}, \"type\": \"scattergeo\"}], \"scattergl\": [{\"marker\": {\"colorbar\": {\"outlinewidth\": 0, \"ticks\": \"\"}}, \"type\": \"scattergl\"}], \"scattermapbox\": [{\"marker\": {\"colorbar\": {\"outlinewidth\": 0, \"ticks\": \"\"}}, \"type\": \"scattermapbox\"}], \"scatterpolar\": [{\"marker\": {\"colorbar\": {\"outlinewidth\": 0, \"ticks\": \"\"}}, \"type\": \"scatterpolar\"}], \"scatterpolargl\": [{\"marker\": {\"colorbar\": {\"outlinewidth\": 0, \"ticks\": \"\"}}, \"type\": \"scatterpolargl\"}], \"scatterternary\": [{\"marker\": {\"colorbar\": {\"outlinewidth\": 0, \"ticks\": \"\"}}, \"type\": \"scatterternary\"}], \"surface\": [{\"colorbar\": {\"outlinewidth\": 0, \"ticks\": \"\"}, \"colorscale\": [[0.0, \"#0d0887\"], [0.1111111111111111, \"#46039f\"], [0.2222222222222222, \"#7201a8\"], [0.3333333333333333, \"#9c179e\"], [0.4444444444444444, \"#bd3786\"], [0.5555555555555556, \"#d8576b\"], [0.6666666666666666, \"#ed7953\"], [0.7777777777777778, \"#fb9f3a\"], [0.8888888888888888, \"#fdca26\"], [1.0, \"#f0f921\"]], \"type\": \"surface\"}], \"table\": [{\"cells\": {\"fill\": {\"color\": \"#EBF0F8\"}, \"line\": {\"color\": \"white\"}}, \"header\": {\"fill\": {\"color\": \"#C8D4E3\"}, \"line\": {\"color\": \"white\"}}, \"type\": \"table\"}]}, \"layout\": {\"annotationdefaults\": {\"arrowcolor\": \"#2a3f5f\", \"arrowhead\": 0, \"arrowwidth\": 1}, \"coloraxis\": {\"colorbar\": {\"outlinewidth\": 0, \"ticks\": \"\"}}, \"colorscale\": {\"diverging\": [[0, \"#8e0152\"], [0.1, \"#c51b7d\"], [0.2, \"#de77ae\"], [0.3, \"#f1b6da\"], [0.4, \"#fde0ef\"], [0.5, \"#f7f7f7\"], [0.6, \"#e6f5d0\"], [0.7, \"#b8e186\"], [0.8, \"#7fbc41\"], [0.9, \"#4d9221\"], [1, \"#276419\"]], \"sequential\": [[0.0, \"#0d0887\"], [0.1111111111111111, \"#46039f\"], [0.2222222222222222, \"#7201a8\"], [0.3333333333333333, \"#9c179e\"], [0.4444444444444444, \"#bd3786\"], [0.5555555555555556, \"#d8576b\"], [0.6666666666666666, \"#ed7953\"], [0.7777777777777778, \"#fb9f3a\"], [0.8888888888888888, \"#fdca26\"], [1.0, \"#f0f921\"]], \"sequentialminus\": [[0.0, \"#0d0887\"], [0.1111111111111111, \"#46039f\"], [0.2222222222222222, \"#7201a8\"], [0.3333333333333333, \"#9c179e\"], [0.4444444444444444, \"#bd3786\"], [0.5555555555555556, \"#d8576b\"], [0.6666666666666666, \"#ed7953\"], [0.7777777777777778, \"#fb9f3a\"], [0.8888888888888888, \"#fdca26\"], [1.0, \"#f0f921\"]]}, \"colorway\": [\"#636efa\", \"#EF553B\", \"#00cc96\", \"#ab63fa\", \"#FFA15A\", \"#19d3f3\", \"#FF6692\", \"#B6E880\", \"#FF97FF\", \"#FECB52\"], \"font\": {\"color\": \"#2a3f5f\"}, \"geo\": {\"bgcolor\": \"white\", \"lakecolor\": \"white\", \"landcolor\": \"#E5ECF6\", \"showlakes\": true, \"showland\": true, \"subunitcolor\": \"white\"}, \"hoverlabel\": {\"align\": \"left\"}, \"hovermode\": \"closest\", \"mapbox\": {\"style\": \"light\"}, \"paper_bgcolor\": \"white\", \"plot_bgcolor\": \"#E5ECF6\", \"polar\": {\"angularaxis\": {\"gridcolor\": \"white\", \"linecolor\": \"white\", \"ticks\": \"\"}, \"bgcolor\": \"#E5ECF6\", \"radialaxis\": {\"gridcolor\": \"white\", \"linecolor\": \"white\", \"ticks\": \"\"}}, \"scene\": {\"xaxis\": {\"backgroundcolor\": \"#E5ECF6\", \"gridcolor\": \"white\", \"gridwidth\": 2, \"linecolor\": \"white\", \"showbackground\": true, \"ticks\": \"\", \"zerolinecolor\": \"white\"}, \"yaxis\": {\"backgroundcolor\": \"#E5ECF6\", \"gridcolor\": \"white\", \"gridwidth\": 2, \"linecolor\": \"white\", \"showbackground\": true, \"ticks\": \"\", \"zerolinecolor\": \"white\"}, \"zaxis\": {\"backgroundcolor\": \"#E5ECF6\", \"gridcolor\": \"white\", \"gridwidth\": 2, \"linecolor\": \"white\", \"showbackground\": true, \"ticks\": \"\", \"zerolinecolor\": \"white\"}}, \"shapedefaults\": {\"line\": {\"color\": \"#2a3f5f\"}}, \"ternary\": {\"aaxis\": {\"gridcolor\": \"white\", \"linecolor\": \"white\", \"ticks\": \"\"}, \"baxis\": {\"gridcolor\": \"white\", \"linecolor\": \"white\", \"ticks\": \"\"}, \"bgcolor\": \"#E5ECF6\", \"caxis\": {\"gridcolor\": \"white\", \"linecolor\": \"white\", \"ticks\": \"\"}}, \"title\": {\"x\": 0.05}, \"xaxis\": {\"automargin\": true, \"gridcolor\": \"white\", \"linecolor\": \"white\", \"ticks\": \"\", \"title\": {\"standoff\": 15}, \"zerolinecolor\": \"white\", \"zerolinewidth\": 2}, \"yaxis\": {\"automargin\": true, \"gridcolor\": \"white\", \"linecolor\": \"white\", \"ticks\": \"\", \"title\": {\"standoff\": 15}, \"zerolinecolor\": \"white\", \"zerolinewidth\": 2}}}, \"xaxis\": {\"anchor\": \"y\", \"domain\": [0.0, 1.0], \"title\": {\"text\": \"x\"}}, \"yaxis\": {\"anchor\": \"x\", \"domain\": [0.0, 1.0], \"title\": {\"text\": \"Nivel general\"}}},\n",
              "                        {\"responsive\": true}\n",
              "                    ).then(function(){\n",
              "                            \n",
              "var gd = document.getElementById('4429999b-4e9c-4354-bb97-505681899b84');\n",
              "var x = new MutationObserver(function (mutations, observer) {{\n",
              "        var display = window.getComputedStyle(gd).display;\n",
              "        if (!display || display === 'none') {{\n",
              "            console.log([gd, 'removed!']);\n",
              "            Plotly.purge(gd);\n",
              "            observer.disconnect();\n",
              "        }}\n",
              "}});\n",
              "\n",
              "// Listen for the removal of the full notebook cells\n",
              "var notebookContainer = gd.closest('#notebook-container');\n",
              "if (notebookContainer) {{\n",
              "    x.observe(notebookContainer, {childList: true});\n",
              "}}\n",
              "\n",
              "// Listen for the clearing of the current output cell\n",
              "var outputEl = gd.closest('.output');\n",
              "if (outputEl) {{\n",
              "    x.observe(outputEl, {childList: true});\n",
              "}}\n",
              "\n",
              "                        })\n",
              "                };\n",
              "                \n",
              "            </script>\n",
              "        </div>\n",
              "</body>\n",
              "</html>"
            ]
          },
          "metadata": {
            "tags": []
          }
        }
      ]
    },
    {
      "cell_type": "markdown",
      "metadata": {
        "id": "yJKHlrd-dkr1"
      },
      "source": [
        "## Exponential Smoothing"
      ]
    },
    {
      "cell_type": "code",
      "metadata": {
        "id": "XYVwOC9rX9uG"
      },
      "source": [
        "from statsmodels.tsa.holtwinters import ExponentialSmoothing as HWES\n",
        "from matplotlib import pyplot as plt"
      ],
      "execution_count": null,
      "outputs": []
    },
    {
      "cell_type": "code",
      "metadata": {
        "id": "XNwOvCltZCWJ"
      },
      "source": [
        "ipc_ts = ipc_gral"
      ],
      "execution_count": null,
      "outputs": []
    },
    {
      "cell_type": "code",
      "metadata": {
        "id": "lgSCvrGGa_v4"
      },
      "source": [
        "ipc_ts.index = pd.to_datetime(ipc_ts.index, format='%Y-%m')"
      ],
      "execution_count": null,
      "outputs": []
    },
    {
      "cell_type": "code",
      "metadata": {
        "colab": {
          "base_uri": "https://localhost:8080/",
          "height": 198
        },
        "id": "jTKVMZjvbTpY",
        "outputId": "82766cfa-7498-417b-cee7-00b776ddc3e2"
      },
      "source": [
        "ipc_ts.head()"
      ],
      "execution_count": null,
      "outputs": [
        {
          "output_type": "execute_result",
          "data": {
            "text/html": [
              "<div>\n",
              "<style scoped>\n",
              "    .dataframe tbody tr th:only-of-type {\n",
              "        vertical-align: middle;\n",
              "    }\n",
              "\n",
              "    .dataframe tbody tr th {\n",
              "        vertical-align: top;\n",
              "    }\n",
              "\n",
              "    .dataframe thead th {\n",
              "        text-align: right;\n",
              "    }\n",
              "</style>\n",
              "<table border=\"1\" class=\"dataframe\">\n",
              "  <thead>\n",
              "    <tr style=\"text-align: right;\">\n",
              "      <th>Total nacional</th>\n",
              "      <th>Nivel general</th>\n",
              "    </tr>\n",
              "  </thead>\n",
              "  <tbody>\n",
              "    <tr>\n",
              "      <th>2016-12-01</th>\n",
              "      <td>100</td>\n",
              "    </tr>\n",
              "    <tr>\n",
              "      <th>2017-01-01</th>\n",
              "      <td>101.586</td>\n",
              "    </tr>\n",
              "    <tr>\n",
              "      <th>2017-02-01</th>\n",
              "      <td>103.686</td>\n",
              "    </tr>\n",
              "    <tr>\n",
              "      <th>2017-03-01</th>\n",
              "      <td>106.148</td>\n",
              "    </tr>\n",
              "    <tr>\n",
              "      <th>2017-04-01</th>\n",
              "      <td>108.967</td>\n",
              "    </tr>\n",
              "  </tbody>\n",
              "</table>\n",
              "</div>"
            ],
            "text/plain": [
              "Total nacional Nivel general\n",
              "2016-12-01               100\n",
              "2017-01-01           101.586\n",
              "2017-02-01           103.686\n",
              "2017-03-01           106.148\n",
              "2017-04-01           108.967"
            ]
          },
          "metadata": {
            "tags": []
          },
          "execution_count": 14
        }
      ]
    },
    {
      "cell_type": "code",
      "metadata": {
        "id": "qHSTidPubX4y"
      },
      "source": [
        "ipc_ts.index.freq = 'MS'\n",
        "ipc_ts = ipc_ts.astype('float32')"
      ],
      "execution_count": null,
      "outputs": []
    },
    {
      "cell_type": "code",
      "metadata": {
        "colab": {
          "base_uri": "https://localhost:8080/",
          "height": 282
        },
        "id": "Qyb77N86bq5B",
        "outputId": "64a97ba2-c763-483a-92e9-64ada4bf0e76"
      },
      "source": [
        "#plot the data\n",
        "ipc_ts.plot()"
      ],
      "execution_count": null,
      "outputs": [
        {
          "output_type": "execute_result",
          "data": {
            "text/plain": [
              "<matplotlib.axes._subplots.AxesSubplot at 0x7f0a9fa22950>"
            ]
          },
          "metadata": {
            "tags": []
          },
          "execution_count": 16
        },
        {
          "output_type": "display_data",
          "data": {
            "image/png": "[encoded data removed]",
            "text/plain": [
              "<Figure size 432x288 with 1 Axes>"
            ]
          },
          "metadata": {
            "tags": [],
            "needs_background": "light"
          }
        }
      ]
    },
    {
      "cell_type": "code",
      "metadata": {
        "id": "2LGf-PfFbxWK"
      },
      "source": [
        "#split between the training and the test data sets. The last 12 periods form the test data\n",
        "df_train = ipc_ts.iloc[:-12]\n",
        "df_test = ipc_ts.iloc[-12:]"
      ],
      "execution_count": null,
      "outputs": []
    },
    {
      "cell_type": "code",
      "metadata": {
        "colab": {
          "base_uri": "https://localhost:8080/"
        },
        "id": "o7scXtEob4iC",
        "outputId": "07e48f7c-a7bf-460f-bd64-250cbc4765df"
      },
      "source": [
        "# model = HWES(df_train, seasonal_periods=12, trend='add', seasonal='mul')\n",
        "model = HWES(np.asarray(df_train), seasonal_periods=12, trend='add', seasonal='mul')\n",
        "fitted = model.fit(optimized=True, use_brute=True)"
      ],
      "execution_count": null,
      "outputs": [
        {
          "output_type": "stream",
          "text": [
            "/usr/local/lib/python3.7/dist-packages/statsmodels/tsa/holtwinters.py:712: ConvergenceWarning:\n",
            "\n",
            "Optimization failed to converge. Check mle_retvals.\n",
            "\n"
          ],
          "name": "stderr"
        }
      ]
    },
    {
      "cell_type": "code",
      "metadata": {
        "colab": {
          "base_uri": "https://localhost:8080/",
          "height": 571
        },
        "id": "BF_tIiQKcZuQ",
        "outputId": "1e428ba3-06aa-4637-c2b6-1aaa636a3c19"
      },
      "source": [
        "#print out the training summary\n",
        "fitted.summary()"
      ],
      "execution_count": null,
      "outputs": [
        {
          "output_type": "execute_result",
          "data": {
            "text/html": [
              "<table class=\"simpletable\">\n",
              "<caption>ExponentialSmoothing Model Results</caption>\n",
              "<tr>\n",
              "  <th>Dep. Variable:</th>            <td>endog</td>        <th>  No. Observations:  </th>        <td>39</td>       \n",
              "</tr>\n",
              "<tr>\n",
              "  <th>Model:</th>            <td>ExponentialSmoothing</td> <th>  SSE                </th>     <td>1719.232</td>    \n",
              "</tr>\n",
              "<tr>\n",
              "  <th>Optimized:</th>                <td>True</td>         <th>  AIC                </th>      <td>179.657</td>    \n",
              "</tr>\n",
              "<tr>\n",
              "  <th>Trend:</th>                  <td>Additive</td>       <th>  BIC                </th>      <td>206.274</td>    \n",
              "</tr>\n",
              "<tr>\n",
              "  <th>Seasonal:</th>            <td>Multiplicative</td>    <th>  AICC               </th>      <td>213.857</td>    \n",
              "</tr>\n",
              "<tr>\n",
              "  <th>Seasonal Periods:</th>          <td>12</td>          <th>  Date:              </th> <td>Tue, 30 Mar 2021</td>\n",
              "</tr>\n",
              "<tr>\n",
              "  <th>Box-Cox:</th>                  <td>False</td>        <th>  Time:              </th>     <td>21:28:31</td>    \n",
              "</tr>\n",
              "<tr>\n",
              "  <th>Box-Cox Coeff.:</th>           <td>None</td>         <th>                     </th>         <td> </td>       \n",
              "</tr>\n",
              "</table>\n",
              "<table class=\"simpletable\">\n",
              "<tr>\n",
              "           <td></td>                  <th>coeff</th>                <th>code</th>               <th>optimized</th>     \n",
              "</tr>\n",
              "<tr>\n",
              "  <th>smoothing_level</th>    <td>           0.2631579</td> <td>               alpha</td> <td>                True</td>\n",
              "</tr>\n",
              "<tr>\n",
              "  <th>smoothing_slope</th>    <td>           0.1578937</td> <td>                beta</td> <td>                True</td>\n",
              "</tr>\n",
              "<tr>\n",
              "  <th>smoothing_seasonal</th> <td>           0.7368421</td> <td>               gamma</td> <td>                True</td>\n",
              "</tr>\n",
              "<tr>\n",
              "  <th>initial_level</th>      <td>           173.12319</td> <td>                 l.0</td> <td>                True</td>\n",
              "</tr>\n",
              "<tr>\n",
              "  <th>initial_slope</th>      <td>           2.9838054</td> <td>                 b.0</td> <td>                True</td>\n",
              "</tr>\n",
              "<tr>\n",
              "  <th>initial_seasons.0</th>  <td>           0.6407870</td> <td>                 s.0</td> <td>                True</td>\n",
              "</tr>\n",
              "<tr>\n",
              "  <th>initial_seasons.1</th>  <td>           0.6389914</td> <td>                 s.1</td> <td>                True</td>\n",
              "</tr>\n",
              "<tr>\n",
              "  <th>initial_seasons.2</th>  <td>           0.6334827</td> <td>                 s.2</td> <td>                True</td>\n",
              "</tr>\n",
              "<tr>\n",
              "  <th>initial_seasons.3</th>  <td>           0.6263056</td> <td>                 s.3</td> <td>                True</td>\n",
              "</tr>\n",
              "<tr>\n",
              "  <th>initial_seasons.4</th>  <td>           0.6209299</td> <td>                 s.4</td> <td>                True</td>\n",
              "</tr>\n",
              "<tr>\n",
              "  <th>initial_seasons.5</th>  <td>           0.6115189</td> <td>                 s.5</td> <td>                True</td>\n",
              "</tr>\n",
              "<tr>\n",
              "  <th>initial_seasons.6</th>  <td>           0.6057250</td> <td>                 s.6</td> <td>                True</td>\n",
              "</tr>\n",
              "<tr>\n",
              "  <th>initial_seasons.7</th>  <td>           0.6083893</td> <td>                 s.7</td> <td>                True</td>\n",
              "</tr>\n",
              "<tr>\n",
              "  <th>initial_seasons.8</th>  <td>           0.6163473</td> <td>                 s.8</td> <td>                True</td>\n",
              "</tr>\n",
              "<tr>\n",
              "  <th>initial_seasons.9</th>  <td>           0.6332441</td> <td>                 s.9</td> <td>                True</td>\n",
              "</tr>\n",
              "<tr>\n",
              "  <th>initial_seasons.10</th> <td>           0.6490652</td> <td>                s.10</td> <td>                True</td>\n",
              "</tr>\n",
              "<tr>\n",
              "  <th>initial_seasons.11</th> <td>           0.6650376</td> <td>                s.11</td> <td>                True</td>\n",
              "</tr>\n",
              "</table>"
            ],
            "text/plain": [
              "<class 'statsmodels.iolib.summary.Summary'>\n",
              "\"\"\"\n",
              "                       ExponentialSmoothing Model Results                       \n",
              "================================================================================\n",
              "Dep. Variable:                    endog   No. Observations:                   39\n",
              "Model:             ExponentialSmoothing   SSE                           1719.232\n",
              "Optimized:                         True   AIC                            179.657\n",
              "Trend:                         Additive   BIC                            206.274\n",
              "Seasonal:                Multiplicative   AICC                           213.857\n",
              "Seasonal Periods:                    12   Date:                 Tue, 30 Mar 2021\n",
              "Box-Cox:                          False   Time:                         21:28:31\n",
              "Box-Cox Coeff.:                    None                                         \n",
              "=================================================================================\n",
              "                          coeff                 code              optimized      \n",
              "---------------------------------------------------------------------------------\n",
              "smoothing_level               0.2631579                alpha                 True\n",
              "smoothing_slope               0.1578937                 beta                 True\n",
              "smoothing_seasonal            0.7368421                gamma                 True\n",
              "initial_level                 173.12319                  l.0                 True\n",
              "initial_slope                 2.9838054                  b.0                 True\n",
              "initial_seasons.0             0.6407870                  s.0                 True\n",
              "initial_seasons.1             0.6389914                  s.1                 True\n",
              "initial_seasons.2             0.6334827                  s.2                 True\n",
              "initial_seasons.3             0.6263056                  s.3                 True\n",
              "initial_seasons.4             0.6209299                  s.4                 True\n",
              "initial_seasons.5             0.6115189                  s.5                 True\n",
              "initial_seasons.6             0.6057250                  s.6                 True\n",
              "initial_seasons.7             0.6083893                  s.7                 True\n",
              "initial_seasons.8             0.6163473                  s.8                 True\n",
              "initial_seasons.9             0.6332441                  s.9                 True\n",
              "initial_seasons.10            0.6490652                 s.10                 True\n",
              "initial_seasons.11            0.6650376                 s.11                 True\n",
              "---------------------------------------------------------------------------------\n",
              "\"\"\""
            ]
          },
          "metadata": {
            "tags": []
          },
          "execution_count": 20
        }
      ]
    },
    {
      "cell_type": "code",
      "metadata": {
        "colab": {
          "base_uri": "https://localhost:8080/"
        },
        "id": "xQXRAsA0c3N2",
        "outputId": "f94ee6e8-b478-47fd-c52e-0f5971f2e2de"
      },
      "source": [
        "#create an out of sample forcast for the next 12 steps beyond the final data point in the training data set\n",
        "ipc_forecast = fitted.forecast(steps=12)\n",
        "ipc_forecast"
      ],
      "execution_count": null,
      "outputs": [
        {
          "output_type": "execute_result",
          "data": {
            "text/plain": [
              "array([301.05943339, 307.98967863, 314.29058489, 321.00875036,\n",
              "       327.03940897, 338.38473536, 356.13167666, 366.26666709,\n",
              "       378.15901265, 386.73269955, 389.81140196, 387.55140302])"
            ]
          },
          "metadata": {
            "tags": []
          },
          "execution_count": 21
        }
      ]
    },
    {
      "cell_type": "code",
      "metadata": {
        "colab": {
          "base_uri": "https://localhost:8080/",
          "height": 294
        },
        "id": "7liipoMrU1Oy",
        "outputId": "aa80e9a6-bd3d-4976-9de3-fda367f3c0b7"
      },
      "source": [
        "# plot the training data, the test data and the forecast on the same plot\n",
        "fig = plt.figure()\n",
        "fig.suptitle('IPC Argentina (2016-2021)')\n",
        "past, = plt.plot(df_train.index, df_train, 'b.-', label='IPC History')\n",
        "future, = plt.plot(df_test.index, df_test, 'r.-', label='Actual IPC')\n",
        "predicted_future, = plt.plot(df_test.index, ipc_forecast, 'g.-', label='IPC Forecast')\n",
        "plt.legend(handles=[past, future, predicted_future])\n",
        "plt.show()"
      ],
      "execution_count": null,
      "outputs": [
        {
          "output_type": "display_data",
          "data": {
            "image/png": "[encoded data removed]",
            "text/plain": [
              "<Figure size 432x288 with 1 Axes>"
            ]
          },
          "metadata": {
            "tags": [],
            "needs_background": "light"
          }
        }
      ]
    },
    {
      "cell_type": "markdown",
      "metadata": {
        "id": "ZZhW197ffSM4"
      },
      "source": [
        "## Auto-Correlation and Parcial Auto-Correlation Function (PACF)"
      ]
    },
    {
      "cell_type": "code",
      "metadata": {
        "colab": {
          "base_uri": "https://localhost:8080/"
        },
        "id": "rLVZVjCcfYkL",
        "outputId": "8b021c8b-79f3-4a04-ebaa-5a0eb64e07ab"
      },
      "source": [
        "ipc_acf = sm.tsa.stattools.acf(np.asarray(ipc_ts), fft=False)\n",
        "ipc_acf"
      ],
      "execution_count": null,
      "outputs": [
        {
          "output_type": "execute_result",
          "data": {
            "text/plain": [
              "array([ 1.        ,  0.93704928,  0.87535363,  0.81603581,  0.75914102,\n",
              "        0.70348431,  0.64979036,  0.59647485,  0.54360397,  0.49005492,\n",
              "        0.43635592,  0.3813625 ,  0.32485613,  0.26987316,  0.2142087 ,\n",
              "        0.15840306,  0.10438615,  0.0530018 ,  0.00290414, -0.04237126,\n",
              "       -0.08502432, -0.12654565, -0.1653384 , -0.20131178, -0.23499078,\n",
              "       -0.2654726 , -0.29336669, -0.31896053, -0.34203016, -0.36260633,\n",
              "       -0.37907025, -0.39076619, -0.39975676, -0.40549897, -0.40625362,\n",
              "       -0.40447774, -0.39900996, -0.39027619, -0.37915986, -0.36614766,\n",
              "       -0.34940498])"
            ]
          },
          "metadata": {
            "tags": []
          },
          "execution_count": 23
        }
      ]
    },
    {
      "cell_type": "code",
      "metadata": {
        "colab": {
          "base_uri": "https://localhost:8080/",
          "height": 545
        },
        "id": "ZF4v3evrfYdn",
        "outputId": "7e64c5f9-132f-4df2-b86d-5c283b73e7e7"
      },
      "source": [
        "sm.graphics.tsa.plot_acf(ipc_ts.values, lags=20)"
      ],
      "execution_count": null,
      "outputs": [
        {
          "output_type": "execute_result",
          "data": {
            "image/png": "[encoded data removed]",
            "text/plain": [
              "<Figure size 432x288 with 1 Axes>"
            ]
          },
          "metadata": {
            "tags": []
          },
          "execution_count": 24
        },
        {
          "output_type": "display_data",
          "data": {
            "image/png": "[encoded data removed]",
            "text/plain": [
              "<Figure size 432x288 with 1 Axes>"
            ]
          },
          "metadata": {
            "tags": [],
            "needs_background": "light"
          }
        }
      ]
    },
    {
      "cell_type": "code",
      "metadata": {
        "colab": {
          "base_uri": "https://localhost:8080/"
        },
        "id": "B-K4zvgphx_5",
        "outputId": "3b191f2e-63f6-4ea3-c7b1-b66bc0e390df"
      },
      "source": [
        "ipc_pacf = sm.tsa.stattools.pacf(np.asarray(ipc_ts), nlags=40)\n",
        "ipc_pacf"
      ],
      "execution_count": null,
      "outputs": [
        {
          "output_type": "stream",
          "text": [
            "/usr/local/lib/python3.7/dist-packages/statsmodels/regression/linear_model.py:1358: RuntimeWarning:\n",
            "\n",
            "invalid value encountered in sqrt\n",
            "\n"
          ],
          "name": "stderr"
        },
        {
          "output_type": "execute_result",
          "data": {
            "text/plain": [
              "array([ 1.        ,  0.95579021, -0.02836444, -0.015684  , -0.01493394,\n",
              "       -0.02968449, -0.02119515, -0.042966  , -0.04471224, -0.06378948,\n",
              "       -0.06211504, -0.08484824, -0.09782814, -0.06113902, -0.10318867,\n",
              "       -0.10571681, -0.08543016, -0.07873393, -0.10812947, -0.05107391,\n",
              "       -0.09139402, -0.13068246, -0.11415977, -0.13038904, -0.16270066,\n",
              "       -0.17151997, -0.22734145, -0.30850803, -0.43980101, -0.79467261,\n",
              "       -3.68800397,  1.36124421,  0.55205554,  0.36497103,  0.31590679,\n",
              "        0.18237228,  0.18918939,  0.15495225,  0.10141792,  0.06505029,\n",
              "        0.14186526])"
            ]
          },
          "metadata": {
            "tags": []
          },
          "execution_count": 25
        }
      ]
    },
    {
      "cell_type": "code",
      "metadata": {
        "colab": {
          "base_uri": "https://localhost:8080/",
          "height": 545
        },
        "id": "vD3UDDP0hx_8",
        "outputId": "37181d2a-b249-445c-d668-c49b3343dfeb"
      },
      "source": [
        "sm.graphics.tsa.plot_pacf(ipc_ts.values, lags=20)"
      ],
      "execution_count": null,
      "outputs": [
        {
          "output_type": "execute_result",
          "data": {
            "image/png": "[encoded data removed]",
            "text/plain": [
              "<Figure size 432x288 with 1 Axes>"
            ]
          },
          "metadata": {
            "tags": []
          },
          "execution_count": 26
        },
        {
          "output_type": "display_data",
          "data": {
            "image/png": "[encoded data removed]",
            "text/plain": [
              "<Figure size 432x288 with 1 Axes>"
            ]
          },
          "metadata": {
            "tags": [],
            "needs_background": "light"
          }
        }
      ]
    },
    {
      "cell_type": "markdown",
      "metadata": {
        "id": "yBEA5lzoeAGG"
      },
      "source": [
        "## ARIMA"
      ]
    },
    {
      "cell_type": "code",
      "metadata": {
        "colab": {
          "base_uri": "https://localhost:8080/",
          "height": 328
        },
        "id": "ayISg1uEeJ42",
        "outputId": "3583a227-17e2-49b1-b946-5bbac29d19ae"
      },
      "source": [
        "model = sm.tsa.ARIMA(np.asarray(df_train), order=(1, 1, 1))\n",
        "fitted = model.fit()\n",
        "fitted.summary()"
      ],
      "execution_count": null,
      "outputs": [
        {
          "output_type": "execute_result",
          "data": {
            "text/html": [
              "<table class=\"simpletable\">\n",
              "<caption>ARIMA Model Results</caption>\n",
              "<tr>\n",
              "  <th>Dep. Variable:</th>        <td>D.y</td>       <th>  No. Observations:  </th>   <td>38</td>   \n",
              "</tr>\n",
              "<tr>\n",
              "  <th>Model:</th>          <td>ARIMA(1, 1, 1)</td>  <th>  Log Likelihood     </th> <td>-80.368</td>\n",
              "</tr>\n",
              "<tr>\n",
              "  <th>Method:</th>             <td>css-mle</td>     <th>  S.D. of innovations</th>  <td>1.982</td> \n",
              "</tr>\n",
              "<tr>\n",
              "  <th>Date:</th>          <td>Tue, 30 Mar 2021</td> <th>  AIC                </th> <td>168.737</td>\n",
              "</tr>\n",
              "<tr>\n",
              "  <th>Time:</th>              <td>21:33:40</td>     <th>  BIC                </th> <td>175.287</td>\n",
              "</tr>\n",
              "<tr>\n",
              "  <th>Sample:</th>                <td>1</td>        <th>  HQIC               </th> <td>171.067</td>\n",
              "</tr>\n",
              "<tr>\n",
              "  <th></th>                       <td> </td>        <th>                     </th>    <td> </td>   \n",
              "</tr>\n",
              "</table>\n",
              "<table class=\"simpletable\">\n",
              "<tr>\n",
              "      <td></td>         <th>coef</th>     <th>std err</th>      <th>z</th>      <th>P>|z|</th>  <th>[0.025</th>    <th>0.975]</th>  \n",
              "</tr>\n",
              "<tr>\n",
              "  <th>const</th>     <td>    4.8947</td> <td>    1.425</td> <td>    3.436</td> <td> 0.002</td> <td>    2.103</td> <td>    7.687</td>\n",
              "</tr>\n",
              "<tr>\n",
              "  <th>ar.L1.D.y</th> <td>    0.8222</td> <td>    0.133</td> <td>    6.205</td> <td> 0.000</td> <td>    0.563</td> <td>    1.082</td>\n",
              "</tr>\n",
              "<tr>\n",
              "  <th>ma.L1.D.y</th> <td>   -0.1287</td> <td>    0.280</td> <td>   -0.460</td> <td> 0.648</td> <td>   -0.677</td> <td>    0.420</td>\n",
              "</tr>\n",
              "</table>\n",
              "<table class=\"simpletable\">\n",
              "<caption>Roots</caption>\n",
              "<tr>\n",
              "    <td></td>   <th>            Real</th>  <th>         Imaginary</th> <th>         Modulus</th>  <th>        Frequency</th>\n",
              "</tr>\n",
              "<tr>\n",
              "  <th>AR.1</th> <td>           1.2162</td> <td>          +0.0000j</td> <td>           1.2162</td> <td>           0.0000</td>\n",
              "</tr>\n",
              "<tr>\n",
              "  <th>MA.1</th> <td>           7.7685</td> <td>          +0.0000j</td> <td>           7.7685</td> <td>           0.0000</td>\n",
              "</tr>\n",
              "</table>"
            ],
            "text/plain": [
              "<class 'statsmodels.iolib.summary.Summary'>\n",
              "\"\"\"\n",
              "                             ARIMA Model Results                              \n",
              "==============================================================================\n",
              "Dep. Variable:                    D.y   No. Observations:                   38\n",
              "Model:                 ARIMA(1, 1, 1)   Log Likelihood                 -80.368\n",
              "Method:                       css-mle   S.D. of innovations              1.982\n",
              "Date:                Tue, 30 Mar 2021   AIC                            168.737\n",
              "Time:                        21:33:40   BIC                            175.287\n",
              "Sample:                             1   HQIC                           171.067\n",
              "                                                                              \n",
              "==============================================================================\n",
              "                 coef    std err          z      P>|z|      [0.025      0.975]\n",
              "------------------------------------------------------------------------------\n",
              "const          4.8947      1.425      3.436      0.002       2.103       7.687\n",
              "ar.L1.D.y      0.8222      0.133      6.205      0.000       0.563       1.082\n",
              "ma.L1.D.y     -0.1287      0.280     -0.460      0.648      -0.677       0.420\n",
              "                                    Roots                                    \n",
              "=============================================================================\n",
              "                  Real          Imaginary           Modulus         Frequency\n",
              "-----------------------------------------------------------------------------\n",
              "AR.1            1.2162           +0.0000j            1.2162            0.0000\n",
              "MA.1            7.7685           +0.0000j            7.7685            0.0000\n",
              "-----------------------------------------------------------------------------\n",
              "\"\"\""
            ]
          },
          "metadata": {
            "tags": []
          },
          "execution_count": 27
        }
      ]
    },
    {
      "cell_type": "code",
      "metadata": {
        "id": "Zd9s3lQpe8Th"
      },
      "source": [
        "ipc_forecast = fitted.forecast(steps=12)"
      ],
      "execution_count": null,
      "outputs": []
    },
    {
      "cell_type": "code",
      "metadata": {
        "colab": {
          "base_uri": "https://localhost:8080/"
        },
        "id": "QuzuBeoDkaJC",
        "outputId": "77d57e6c-82d3-4913-89da-0d8738f26343"
      },
      "source": [
        "ipc_forecast[0]"
      ],
      "execution_count": null,
      "outputs": [
        {
          "output_type": "execute_result",
          "data": {
            "text/plain": [
              "array([301.41806688, 307.01771827, 312.49204057, 317.86331661,\n",
              "       323.14986746, 328.36675679, 333.52637005, 338.6388906 ,\n",
              "       343.71269128, 348.75465628, 353.77044579, 358.76471368])"
            ]
          },
          "metadata": {
            "tags": []
          },
          "execution_count": 29
        }
      ]
    },
    {
      "cell_type": "code",
      "metadata": {
        "id": "_b42OPJkmQj9"
      },
      "source": [
        "import plotly.graph_objects as go"
      ],
      "execution_count": null,
      "outputs": []
    },
    {
      "cell_type": "code",
      "metadata": {
        "colab": {
          "base_uri": "https://localhost:8080/",
          "height": 294
        },
        "id": "jXreNrBojuB2",
        "outputId": "4fbee624-3dd0-486d-d3cc-cdd7db211b1e"
      },
      "source": [
        "# plot the training data, the test data and the forecast on the same plot\n",
        "fig = plt.figure()\n",
        "fig.suptitle('IPC Argentina (2016-2021)')\n",
        "past, = plt.plot(df_train.index, df_train, 'b.-', label='IPC History')\n",
        "future, = plt.plot(df_test.index, df_test, 'r.-', label='Actual IPC')\n",
        "predicted_future, = plt.plot(df_test.index, ipc_forecast[0], 'g.-', label='IPC Forecast')\n",
        "plt.legend(handles=[past, future, predicted_future])\n",
        "plt.show()"
      ],
      "execution_count": null,
      "outputs": [
        {
          "output_type": "display_data",
          "data": {
            "image/png": "[encoded data removed]",
            "text/plain": [
              "<Figure size 432x288 with 1 Axes>"
            ]
          },
          "metadata": {
            "tags": [],
            "needs_background": "light"
          }
        }
      ]
    },
    {
      "cell_type": "code",
      "metadata": {
        "colab": {
          "base_uri": "https://localhost:8080/",
          "height": 542
        },
        "id": "COS3ZlMQt7iE",
        "outputId": "5404f24e-7448-4fc4-852d-6938e52b070c"
      },
      "source": [
        "fig = go.Figure(layout=dict(title=dict(text='IPC Argentina (2016-2021)')))\n",
        "\n",
        "fig.add_trace(go.Scatter(x=df_train.index, y=df_train['Nivel general'],\n",
        "                    mode='lines+markers',\n",
        "                    name='IPC History'))\n",
        "fig.add_trace(go.Scatter(x=df_test.index, y=df_test['Nivel general'],\n",
        "                    mode='lines+markers',\n",
        "                    name='Actual IPC - OOT'))\n",
        "fig.add_trace(go.Scatter(x=df_test.index, y=ipc_forecast[0],\n",
        "                    mode='lines+markers',\n",
        "                    name='IPC Forecast'))\n",
        "\n",
        "fig"
      ],
      "execution_count": null,
      "outputs": [
        {
          "output_type": "display_data",
          "data": {
            "text/html": [
              "<html>\n",
              "<head><meta charset=\"utf-8\" /></head>\n",
              "<body>\n",
              "    <div>\n",
              "            <script src=\"https://cdnjs.cloudflare.com/ajax/libs/mathjax/2.7.5/MathJax.js?config=TeX-AMS-MML_SVG\"></script><script type=\"text/javascript\">if (window.MathJax) {MathJax.Hub.Config({SVG: {font: \"STIX-Web\"}});}</script>\n",
              "                <script type=\"text/javascript\">window.PlotlyConfig = {MathJaxConfig: 'local'};</script>\n",
              "        <script src=\"https://cdn.plot.ly/plotly-latest.min.js\"></script>    \n",
              "            <div id=\"c97bf841-c802-4202-a6ee-6a31a7c7a10f\" class=\"plotly-graph-div\" style=\"height:525px; width:100%;\"></div>\n",
              "            <script type=\"text/javascript\">\n",
              "                \n",
              "                    window.PLOTLYENV=window.PLOTLYENV || {};\n",
              "                    \n",
              "                if (document.getElementById(\"c97bf841-c802-4202-a6ee-6a31a7c7a10f\")) {\n",
              "                    Plotly.newPlot(\n",
              "                        'c97bf841-c802-4202-a6ee-6a31a7c7a10f',\n",
              "                        [{\"mode\": \"lines+markers\", \"name\": \"IPC History\", \"type\": \"scatter\", \"x\": [\"2016-12-01T00:00:00\", \"2017-01-01T00:00:00\", \"2017-02-01T00:00:00\", \"2017-03-01T00:00:00\", \"2017-04-01T00:00:00\", \"2017-05-01T00:00:00\", \"2017-06-01T00:00:00\", \"2017-07-01T00:00:00\", \"2017-08-01T00:00:00\", \"2017-09-01T00:00:00\", \"2017-10-01T00:00:00\", \"2017-11-01T00:00:00\", \"2017-12-01T00:00:00\", \"2018-01-01T00:00:00\", \"2018-02-01T00:00:00\", \"2018-03-01T00:00:00\", \"2018-04-01T00:00:00\", \"2018-05-01T00:00:00\", \"2018-06-01T00:00:00\", \"2018-07-01T00:00:00\", \"2018-08-01T00:00:00\", \"2018-09-01T00:00:00\", \"2018-10-01T00:00:00\", \"2018-11-01T00:00:00\", \"2018-12-01T00:00:00\", \"2019-01-01T00:00:00\", \"2019-02-01T00:00:00\", \"2019-03-01T00:00:00\", \"2019-04-01T00:00:00\", \"2019-05-01T00:00:00\", \"2019-06-01T00:00:00\", \"2019-07-01T00:00:00\", \"2019-08-01T00:00:00\", \"2019-09-01T00:00:00\", \"2019-10-01T00:00:00\", \"2019-11-01T00:00:00\", \"2019-12-01T00:00:00\", \"2020-01-01T00:00:00\", \"2020-02-01T00:00:00\"], \"y\": [100.0, 101.58589935302734, 103.68589782714844, 106.14759826660156, 108.9666976928711, 110.53009796142578, 111.84770202636719, 113.78520202636719, 115.38189697265625, 117.5718994140625, 119.35279846191406, 120.99400329589844, 124.79560089111328, 126.98870086669922, 130.0605926513672, 133.1053924560547, 136.75120544433594, 139.58929443359375, 144.8052978515625, 149.29660034179688, 155.1033935546875, 165.23829650878906, 174.1472930908203, 179.6387939453125, 184.2552032470703, 189.610107421875, 196.75010681152344, 205.9571075439453, 213.05169677734375, 219.56910705566406, 225.53700256347656, 230.49400329589844, 239.60769653320312, 253.710205078125, 262.06610107421875, 273.2157897949219, 283.4442138671875, 289.82989501953125, 295.6659851074219]}, {\"mode\": \"lines+markers\", \"name\": \"Actual IPC - OOT\", \"type\": \"scatter\", \"x\": [\"2020-03-01T00:00:00\", \"2020-04-01T00:00:00\", \"2020-05-01T00:00:00\", \"2020-06-01T00:00:00\", \"2020-07-01T00:00:00\", \"2020-08-01T00:00:00\", \"2020-09-01T00:00:00\", \"2020-10-01T00:00:00\", \"2020-11-01T00:00:00\", \"2020-12-01T00:00:00\", \"2021-01-01T00:00:00\", \"2021-02-01T00:00:00\"], \"y\": [305.551513671875, 310.1242980957031, 314.90869140625, 321.9737854003906, 328.2013854980469, 337.0632019042969, 346.6206970214844, 359.6570129394531, 371.0210876464844, 385.8825988769531, 401.5071105957031, 415.8594970703125]}, {\"mode\": \"lines+markers\", \"name\": \"IPC Forecast\", \"type\": \"scatter\", \"x\": [\"2020-03-01T00:00:00\", \"2020-04-01T00:00:00\", \"2020-05-01T00:00:00\", \"2020-06-01T00:00:00\", \"2020-07-01T00:00:00\", \"2020-08-01T00:00:00\", \"2020-09-01T00:00:00\", \"2020-10-01T00:00:00\", \"2020-11-01T00:00:00\", \"2020-12-01T00:00:00\", \"2021-01-01T00:00:00\", \"2021-02-01T00:00:00\"], \"y\": [301.41806688284044, 307.0177182725887, 312.49204057150246, 317.86331661136285, 323.1498674574618, 328.36675678917044, 333.5263700454674, 338.63889060153696, 343.71269128375405, 348.7546562754308, 353.77044578946925, 358.76471368365384]}],\n",
              "                        {\"template\": {\"data\": {\"bar\": [{\"error_x\": {\"color\": \"#2a3f5f\"}, \"error_y\": {\"color\": \"#2a3f5f\"}, \"marker\": {\"line\": {\"color\": \"#E5ECF6\", \"width\": 0.5}}, \"type\": \"bar\"}], \"barpolar\": [{\"marker\": {\"line\": {\"color\": \"#E5ECF6\", \"width\": 0.5}}, \"type\": \"barpolar\"}], \"carpet\": [{\"aaxis\": {\"endlinecolor\": \"#2a3f5f\", \"gridcolor\": \"white\", \"linecolor\": \"white\", \"minorgridcolor\": \"white\", \"startlinecolor\": \"#2a3f5f\"}, \"baxis\": {\"endlinecolor\": \"#2a3f5f\", \"gridcolor\": \"white\", \"linecolor\": \"white\", \"minorgridcolor\": \"white\", \"startlinecolor\": \"#2a3f5f\"}, \"type\": \"carpet\"}], \"choropleth\": [{\"colorbar\": {\"outlinewidth\": 0, \"ticks\": \"\"}, \"type\": \"choropleth\"}], \"contour\": [{\"colorbar\": {\"outlinewidth\": 0, \"ticks\": \"\"}, \"colorscale\": [[0.0, \"#0d0887\"], [0.1111111111111111, \"#46039f\"], [0.2222222222222222, \"#7201a8\"], [0.3333333333333333, \"#9c179e\"], [0.4444444444444444, \"#bd3786\"], [0.5555555555555556, \"#d8576b\"], [0.6666666666666666, \"#ed7953\"], [0.7777777777777778, \"#fb9f3a\"], [0.8888888888888888, \"#fdca26\"], [1.0, \"#f0f921\"]], \"type\": \"contour\"}], \"contourcarpet\": [{\"colorbar\": {\"outlinewidth\": 0, \"ticks\": \"\"}, \"type\": \"contourcarpet\"}], \"heatmap\": [{\"colorbar\": {\"outlinewidth\": 0, \"ticks\": \"\"}, \"colorscale\": [[0.0, \"#0d0887\"], [0.1111111111111111, \"#46039f\"], [0.2222222222222222, \"#7201a8\"], [0.3333333333333333, \"#9c179e\"], [0.4444444444444444, \"#bd3786\"], [0.5555555555555556, \"#d8576b\"], [0.6666666666666666, \"#ed7953\"], [0.7777777777777778, \"#fb9f3a\"], [0.8888888888888888, \"#fdca26\"], [1.0, \"#f0f921\"]], \"type\": \"heatmap\"}], \"heatmapgl\": [{\"colorbar\": {\"outlinewidth\": 0, \"ticks\": \"\"}, \"colorscale\": [[0.0, \"#0d0887\"], [0.1111111111111111, \"#46039f\"], [0.2222222222222222, \"#7201a8\"], [0.3333333333333333, \"#9c179e\"], [0.4444444444444444, \"#bd3786\"], [0.5555555555555556, \"#d8576b\"], [0.6666666666666666, \"#ed7953\"], [0.7777777777777778, \"#fb9f3a\"], [0.8888888888888888, \"#fdca26\"], [1.0, \"#f0f921\"]], \"type\": \"heatmapgl\"}], \"histogram\": [{\"marker\": {\"colorbar\": {\"outlinewidth\": 0, \"ticks\": \"\"}}, \"type\": \"histogram\"}], \"histogram2d\": [{\"colorbar\": {\"outlinewidth\": 0, \"ticks\": \"\"}, \"colorscale\": [[0.0, \"#0d0887\"], [0.1111111111111111, \"#46039f\"], [0.2222222222222222, \"#7201a8\"], [0.3333333333333333, \"#9c179e\"], [0.4444444444444444, \"#bd3786\"], [0.5555555555555556, \"#d8576b\"], [0.6666666666666666, \"#ed7953\"], [0.7777777777777778, \"#fb9f3a\"], [0.8888888888888888, \"#fdca26\"], [1.0, \"#f0f921\"]], \"type\": \"histogram2d\"}], \"histogram2dcontour\": [{\"colorbar\": {\"outlinewidth\": 0, \"ticks\": \"\"}, \"colorscale\": [[0.0, \"#0d0887\"], [0.1111111111111111, \"#46039f\"], [0.2222222222222222, \"#7201a8\"], [0.3333333333333333, \"#9c179e\"], [0.4444444444444444, \"#bd3786\"], [0.5555555555555556, \"#d8576b\"], [0.6666666666666666, \"#ed7953\"], [0.7777777777777778, \"#fb9f3a\"], [0.8888888888888888, \"#fdca26\"], [1.0, \"#f0f921\"]], \"type\": \"histogram2dcontour\"}], \"mesh3d\": [{\"colorbar\": {\"outlinewidth\": 0, \"ticks\": \"\"}, \"type\": \"mesh3d\"}], \"parcoords\": [{\"line\": {\"colorbar\": {\"outlinewidth\": 0, \"ticks\": \"\"}}, \"type\": \"parcoords\"}], \"pie\": [{\"automargin\": true, \"type\": \"pie\"}], \"scatter\": [{\"marker\": {\"colorbar\": {\"outlinewidth\": 0, \"ticks\": \"\"}}, \"type\": \"scatter\"}], \"scatter3d\": [{\"line\": {\"colorbar\": {\"outlinewidth\": 0, \"ticks\": \"\"}}, \"marker\": {\"colorbar\": {\"outlinewidth\": 0, \"ticks\": \"\"}}, \"type\": \"scatter3d\"}], \"scattercarpet\": [{\"marker\": {\"colorbar\": {\"outlinewidth\": 0, \"ticks\": \"\"}}, \"type\": \"scattercarpet\"}], \"scattergeo\": [{\"marker\": {\"colorbar\": {\"outlinewidth\": 0, \"ticks\": \"\"}}, \"type\": \"scattergeo\"}], \"scattergl\": [{\"marker\": {\"colorbar\": {\"outlinewidth\": 0, \"ticks\": \"\"}}, \"type\": \"scattergl\"}], \"scattermapbox\": [{\"marker\": {\"colorbar\": {\"outlinewidth\": 0, \"ticks\": \"\"}}, \"type\": \"scattermapbox\"}], \"scatterpolar\": [{\"marker\": {\"colorbar\": {\"outlinewidth\": 0, \"ticks\": \"\"}}, \"type\": \"scatterpolar\"}], \"scatterpolargl\": [{\"marker\": {\"colorbar\": {\"outlinewidth\": 0, \"ticks\": \"\"}}, \"type\": \"scatterpolargl\"}], \"scatterternary\": [{\"marker\": {\"colorbar\": {\"outlinewidth\": 0, \"ticks\": \"\"}}, \"type\": \"scatterternary\"}], \"surface\": [{\"colorbar\": {\"outlinewidth\": 0, \"ticks\": \"\"}, \"colorscale\": [[0.0, \"#0d0887\"], [0.1111111111111111, \"#46039f\"], [0.2222222222222222, \"#7201a8\"], [0.3333333333333333, \"#9c179e\"], [0.4444444444444444, \"#bd3786\"], [0.5555555555555556, \"#d8576b\"], [0.6666666666666666, \"#ed7953\"], [0.7777777777777778, \"#fb9f3a\"], [0.8888888888888888, \"#fdca26\"], [1.0, \"#f0f921\"]], \"type\": \"surface\"}], \"table\": [{\"cells\": {\"fill\": {\"color\": \"#EBF0F8\"}, \"line\": {\"color\": \"white\"}}, \"header\": {\"fill\": {\"color\": \"#C8D4E3\"}, \"line\": {\"color\": \"white\"}}, \"type\": \"table\"}]}, \"layout\": {\"annotationdefaults\": {\"arrowcolor\": \"#2a3f5f\", \"arrowhead\": 0, \"arrowwidth\": 1}, \"coloraxis\": {\"colorbar\": {\"outlinewidth\": 0, \"ticks\": \"\"}}, \"colorscale\": {\"diverging\": [[0, \"#8e0152\"], [0.1, \"#c51b7d\"], [0.2, \"#de77ae\"], [0.3, \"#f1b6da\"], [0.4, \"#fde0ef\"], [0.5, \"#f7f7f7\"], [0.6, \"#e6f5d0\"], [0.7, \"#b8e186\"], [0.8, \"#7fbc41\"], [0.9, \"#4d9221\"], [1, \"#276419\"]], \"sequential\": [[0.0, \"#0d0887\"], [0.1111111111111111, \"#46039f\"], [0.2222222222222222, \"#7201a8\"], [0.3333333333333333, \"#9c179e\"], [0.4444444444444444, \"#bd3786\"], [0.5555555555555556, \"#d8576b\"], [0.6666666666666666, \"#ed7953\"], [0.7777777777777778, \"#fb9f3a\"], [0.8888888888888888, \"#fdca26\"], [1.0, \"#f0f921\"]], \"sequentialminus\": [[0.0, \"#0d0887\"], [0.1111111111111111, \"#46039f\"], [0.2222222222222222, \"#7201a8\"], [0.3333333333333333, \"#9c179e\"], [0.4444444444444444, \"#bd3786\"], [0.5555555555555556, \"#d8576b\"], [0.6666666666666666, \"#ed7953\"], [0.7777777777777778, \"#fb9f3a\"], [0.8888888888888888, \"#fdca26\"], [1.0, \"#f0f921\"]]}, \"colorway\": [\"#636efa\", \"#EF553B\", \"#00cc96\", \"#ab63fa\", \"#FFA15A\", \"#19d3f3\", \"#FF6692\", \"#B6E880\", \"#FF97FF\", \"#FECB52\"], \"font\": {\"color\": \"#2a3f5f\"}, \"geo\": {\"bgcolor\": \"white\", \"lakecolor\": \"white\", \"landcolor\": \"#E5ECF6\", \"showlakes\": true, \"showland\": true, \"subunitcolor\": \"white\"}, \"hoverlabel\": {\"align\": \"left\"}, \"hovermode\": \"closest\", \"mapbox\": {\"style\": \"light\"}, \"paper_bgcolor\": \"white\", \"plot_bgcolor\": \"#E5ECF6\", \"polar\": {\"angularaxis\": {\"gridcolor\": \"white\", \"linecolor\": \"white\", \"ticks\": \"\"}, \"bgcolor\": \"#E5ECF6\", \"radialaxis\": {\"gridcolor\": \"white\", \"linecolor\": \"white\", \"ticks\": \"\"}}, \"scene\": {\"xaxis\": {\"backgroundcolor\": \"#E5ECF6\", \"gridcolor\": \"white\", \"gridwidth\": 2, \"linecolor\": \"white\", \"showbackground\": true, \"ticks\": \"\", \"zerolinecolor\": \"white\"}, \"yaxis\": {\"backgroundcolor\": \"#E5ECF6\", \"gridcolor\": \"white\", \"gridwidth\": 2, \"linecolor\": \"white\", \"showbackground\": true, \"ticks\": \"\", \"zerolinecolor\": \"white\"}, \"zaxis\": {\"backgroundcolor\": \"#E5ECF6\", \"gridcolor\": \"white\", \"gridwidth\": 2, \"linecolor\": \"white\", \"showbackground\": true, \"ticks\": \"\", \"zerolinecolor\": \"white\"}}, \"shapedefaults\": {\"line\": {\"color\": \"#2a3f5f\"}}, \"ternary\": {\"aaxis\": {\"gridcolor\": \"white\", \"linecolor\": \"white\", \"ticks\": \"\"}, \"baxis\": {\"gridcolor\": \"white\", \"linecolor\": \"white\", \"ticks\": \"\"}, \"bgcolor\": \"#E5ECF6\", \"caxis\": {\"gridcolor\": \"white\", \"linecolor\": \"white\", \"ticks\": \"\"}}, \"title\": {\"x\": 0.05}, \"xaxis\": {\"automargin\": true, \"gridcolor\": \"white\", \"linecolor\": \"white\", \"ticks\": \"\", \"title\": {\"standoff\": 15}, \"zerolinecolor\": \"white\", \"zerolinewidth\": 2}, \"yaxis\": {\"automargin\": true, \"gridcolor\": \"white\", \"linecolor\": \"white\", \"ticks\": \"\", \"title\": {\"standoff\": 15}, \"zerolinecolor\": \"white\", \"zerolinewidth\": 2}}}, \"title\": {\"text\": \"IPC Argentina (2016-2021)\"}},\n",
              "                        {\"responsive\": true}\n",
              "                    ).then(function(){\n",
              "                            \n",
              "var gd = document.getElementById('c97bf841-c802-4202-a6ee-6a31a7c7a10f');\n",
              "var x = new MutationObserver(function (mutations, observer) {{\n",
              "        var display = window.getComputedStyle(gd).display;\n",
              "        if (!display || display === 'none') {{\n",
              "            console.log([gd, 'removed!']);\n",
              "            Plotly.purge(gd);\n",
              "            observer.disconnect();\n",
              "        }}\n",
              "}});\n",
              "\n",
              "// Listen for the removal of the full notebook cells\n",
              "var notebookContainer = gd.closest('#notebook-container');\n",
              "if (notebookContainer) {{\n",
              "    x.observe(notebookContainer, {childList: true});\n",
              "}}\n",
              "\n",
              "// Listen for the clearing of the current output cell\n",
              "var outputEl = gd.closest('.output');\n",
              "if (outputEl) {{\n",
              "    x.observe(outputEl, {childList: true});\n",
              "}}\n",
              "\n",
              "                        })\n",
              "                };\n",
              "                \n",
              "            </script>\n",
              "        </div>\n",
              "</body>\n",
              "</html>"
            ]
          },
          "metadata": {
            "tags": []
          }
        }
      ]
    },
    {
      "cell_type": "markdown",
      "metadata": {
        "id": "M2S-1iHTEGur"
      },
      "source": [
        "# Documentación"
      ]
    },
    {
      "cell_type": "markdown",
      "metadata": {
        "id": "jsqpQiCUEM__"
      },
      "source": [
        "https://www.statsmodels.org/stable/api.html --> statsmodels.tsa.api, tsa.stattools\n"
      ]
    }
  ]
}
