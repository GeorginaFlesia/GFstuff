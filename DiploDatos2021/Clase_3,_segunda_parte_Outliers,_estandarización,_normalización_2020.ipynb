{
  "nbformat": 4,
  "nbformat_minor": 0,
  "metadata": {
    "colab": {
      "name": "Clase 3, segunda parte: Outliers, estandarización, normalización.ipynb",
      "provenance": [],
      "include_colab_link": true
    },
    "kernelspec": {
      "name": "python3",
      "display_name": "Python 3"
    },
    "language_info": {
      "name": "python"
    }
  },
  "cells": [
    {
      "cell_type": "markdown",
      "metadata": {
        "id": "view-in-github",
        "colab_type": "text"
      },
      "source": [
        "<a href=\"https://colab.research.google.com/github/GeorginaFlesia/GFstuff/blob/master/Clase_3%2C_segunda_parte_Outliers%2C_estandarizaci%C3%B3n%2C_normalizaci%C3%B3n.ipynb\" target=\"_parent\"><img src=\"https://colab.research.google.com/assets/colab-badge.svg\" alt=\"Open In Colab\"/></a>"
      ]
    },
    {
      "cell_type": "markdown",
      "metadata": {
        "id": "ybPj3hG7N70z"
      },
      "source": [
        "Partimos de lo que hicimos en el notebook anterior para trabajar con las columnas de datos numéricos. \n",
        "\n",
        "Primero vamos a cargarlo nuevamente."
      ]
    },
    {
      "cell_type": "code",
      "metadata": {
        "id": "0RPMzvsmNzhk",
        "colab": {
          "base_uri": "https://localhost:8080/"
        },
        "outputId": "e7716001-6beb-4dcc-e1ae-b39d76a927be"
      },
      "source": [
        "import pandas as pd\n",
        "from google.colab import drive\n",
        "drive.mount('/content/drive')\n",
        "\n",
        "filename = '/content/drive/My Drive/LaboDatos2021/dataframe_clase_3_limpio.csv' \n",
        "\n",
        "df = pd.read_csv(filename)\n",
        "\n",
        "print(df)"
      ],
      "execution_count": null,
      "outputs": [
        {
          "output_type": "stream",
          "text": [
            "Mounted at /content/drive\n",
            "    Unnamed: 0  Edad  Altura   Peso  Promedio Sexo      LU     Observación \n",
            "0            0    25    1.80   83.0      7.79    h  125/89          ninguna\n",
            "1            1    21    1.89   86.0      9.70    h   35/88          ninguna\n",
            "2            2    39    1.54   50.0      7.10    m  142/80     hipertension\n",
            "3            3    49    1.66   70.0      6.54    m  553/83          ninguna\n",
            "4            4    31    1.70   81.0      7.21    h  495/83     hipertension\n",
            "5            5    33    1.74   93.0      7.10    h   25/78          ninguna\n",
            "6            6    29    1.81   82.5      6.90    h  445/81          ninguna\n",
            "7            7    19    1.82   86.3      8.43    h    5/84          ninguna\n",
            "8            8    20    1.76   75.0     10.00    m    1/81          ninguna\n",
            "9           10    32    1.64   60.0      9.10    m  400/80          ninguna\n",
            "10          11    59    1.70   67.0      8.99   nb  100/89          ninguna\n",
            "11          12    34    1.81   97.0      7.46    h    1/89          ninguna\n",
            "12          13    49    1.78  432.0      7.41    h  500/86  dolor de cabeza\n",
            "13          14    51    1.77   75.0      9.10    h   25/85     hipertension\n",
            "14          17    41    1.80    8.0      9.20    h  099/89          ninguna\n",
            "15          19    28    1.68   68.0      7.54    m  145/81          ninguna\n"
          ],
          "name": "stdout"
        }
      ]
    },
    {
      "cell_type": "markdown",
      "metadata": {
        "id": "TYz-sM3lQTJH"
      },
      "source": [
        "En la clase vimos que hay distintas formas de remover outliers. En este caso, la columna peso tiene un outliner bastante claro que tiene sentido remover (índice 12), es más, podemos sospechar que alguien se equivocó cuando ingresó los datos. Hubiese pasado algo similar si encontrabamos alguien con edad -4 o 221 años. \n",
        "\n",
        "En este caso no vamos a remover datos usando criterios basados en el desvío estándar, aunque sería similar el procedimiento."
      ]
    },
    {
      "cell_type": "code",
      "metadata": {
        "id": "x6cCiPFHQu6D",
        "colab": {
          "base_uri": "https://localhost:8080/"
        },
        "outputId": "18ee9f98-853d-43ef-dae7-33548bca4438"
      },
      "source": [
        "import numpy as np\n",
        "indice = df[np.logical_or(df['Peso']>400, df['Peso']<10)].index  # el indice donde esta la fila con un peso mayor a 400\n",
        "df_1 = df.drop(indice)\n",
        "print(df_1)\n"
      ],
      "execution_count": null,
      "outputs": [
        {
          "output_type": "stream",
          "text": [
            "    Unnamed: 0  Edad  Altura  Peso  Promedio Sexo      LU  Observación \n",
            "0            0    25    1.80  83.0      7.79    h  125/89       ninguna\n",
            "1            1    21    1.89  86.0      9.70    h   35/88       ninguna\n",
            "2            2    39    1.54  50.0      7.10    m  142/80  hipertension\n",
            "3            3    49    1.66  70.0      6.54    m  553/83       ninguna\n",
            "4            4    31    1.70  81.0      7.21    h  495/83  hipertension\n",
            "5            5    33    1.74  93.0      7.10    h   25/78       ninguna\n",
            "6            6    29    1.81  82.5      6.90    h  445/81       ninguna\n",
            "7            7    19    1.82  86.3      8.43    h    5/84       ninguna\n",
            "8            8    20    1.76  75.0     10.00    m    1/81       ninguna\n",
            "9           10    32    1.64  60.0      9.10    m  400/80       ninguna\n",
            "10          11    59    1.70  67.0      8.99   nb  100/89       ninguna\n",
            "11          12    34    1.81  97.0      7.46    h    1/89       ninguna\n",
            "13          14    51    1.77  75.0      9.10    h   25/85  hipertension\n",
            "15          19    28    1.68  68.0      7.54    m  145/81       ninguna\n"
          ],
          "name": "stdout"
        }
      ]
    },
    {
      "cell_type": "markdown",
      "metadata": {
        "id": "AQ9FEJ1KRBAe"
      },
      "source": [
        "Ahora pensamos como estandarizar las columnas. Supongamos que no hay diferencias en la edad típica en la que se matriculan estudiantes a la Universidad. Entonces tiene sentido hablar del desvío de la media, en unidades de desvío estandar. Es decir, podemos transformar la columna \"Edad\" a z-scores:"
      ]
    },
    {
      "cell_type": "code",
      "metadata": {
        "id": "N-_c7n0VROYY",
        "colab": {
          "base_uri": "https://localhost:8080/"
        },
        "outputId": "85eed7f7-0f48-44dd-ee2b-3203a28d5fe6"
      },
      "source": [
        "from scipy.stats import zscore\n",
        "df_1['Edad (z)'] = zscore(df_1['Edad'])\n",
        "print(df_1)"
      ],
      "execution_count": null,
      "outputs": [
        {
          "output_type": "stream",
          "text": [
            "    Unnamed: 0  Edad  Altura  Peso  ...  Sexo      LU  Observación   Edad (z)\n",
            "0            0    25    1.80  83.0  ...     h  125/89       ninguna -0.734333\n",
            "1            1    21    1.89  86.0  ...     h   35/88       ninguna -1.077022\n",
            "2            2    39    1.54  50.0  ...     m  142/80  hipertension  0.465078\n",
            "3            3    49    1.66  70.0  ...     m  553/83       ninguna  1.321800\n",
            "4            4    31    1.70  81.0  ...     h  495/83  hipertension -0.220300\n",
            "5            5    33    1.74  93.0  ...     h   25/78       ninguna -0.048956\n",
            "6            6    29    1.81  82.5  ...     h  445/81       ninguna -0.391644\n",
            "7            7    19    1.82  86.3  ...     h    5/84       ninguna -1.248366\n",
            "8            8    20    1.76  75.0  ...     m    1/81       ninguna -1.162694\n",
            "9           10    32    1.64  60.0  ...     m  400/80       ninguna -0.134628\n",
            "10          11    59    1.70  67.0  ...    nb  100/89       ninguna  2.178521\n",
            "11          12    34    1.81  97.0  ...     h    1/89       ninguna  0.036717\n",
            "13          14    51    1.77  75.0  ...     h   25/85  hipertension  1.493144\n",
            "15          19    28    1.68  68.0  ...     m  145/81       ninguna -0.477316\n",
            "\n",
            "[14 rows x 9 columns]\n"
          ],
          "name": "stdout"
        }
      ]
    },
    {
      "cell_type": "markdown",
      "metadata": {
        "id": "3-Xorlz0Rzh8"
      },
      "source": [
        "¿Tiene sentido hacer lo mismo para la altura y el peso?\n",
        "\n",
        "La altura y el peso tienden a ser mayores en hombres que en mujeres. Tendría sentido normalizar cada uno por la media el desvío estandar de su población. O bien usar un método de normalización que no compare con el desvío estándar, por ejemplo, normalización min-max.\n",
        "\n",
        "Veamos ambos casos. Primero, z-score específico para cada grupo, computado para la altura."
      ]
    },
    {
      "cell_type": "code",
      "metadata": {
        "id": "DIJR0hF7SMu_",
        "colab": {
          "base_uri": "https://localhost:8080/"
        },
        "outputId": "1a6ce748-0cfc-4f31-a5a6-b70726bcd20f"
      },
      "source": [
        "import numpy as np\n",
        "\n",
        "indice_h = df_1['Sexo']=='h'\n",
        "indice_m = df_1['Sexo']=='m'\n",
        "\n",
        "df_1['Altura (z)'] = np.zeros(len(df_1))  # ponemos 0 para despues poder modificarla\n",
        "print(df_1)\n",
        "df_1['Altura (z)'][indice_h] = sp.stats.zscore(df_1['Altura'][indice_h])\n",
        "print(df_1)\n",
        "df_1['Altura (z)'][indice_m] = sp.stats.zscore(df_1['Altura'][indice_m])\n",
        "print(df_1)\n"
      ],
      "execution_count": null,
      "outputs": [
        {
          "output_type": "stream",
          "text": [
            "    Unnamed: 0  Edad  Altura  Peso  ...      LU  Observación   Edad (z) Altura (z)\n",
            "0            0    25    1.80  83.0  ...  125/89       ninguna -0.734333        0.0\n",
            "1            1    21    1.89  86.0  ...   35/88       ninguna -1.077022        0.0\n",
            "2            2    39    1.54  50.0  ...  142/80  hipertension  0.465078        0.0\n",
            "3            3    49    1.66  70.0  ...  553/83       ninguna  1.321800        0.0\n",
            "4            4    31    1.70  81.0  ...  495/83  hipertension -0.220300        0.0\n",
            "5            5    33    1.74  93.0  ...   25/78       ninguna -0.048956        0.0\n",
            "6            6    29    1.81  82.5  ...  445/81       ninguna -0.391644        0.0\n",
            "7            7    19    1.82  86.3  ...    5/84       ninguna -1.248366        0.0\n",
            "8            8    20    1.76  75.0  ...    1/81       ninguna -1.162694        0.0\n",
            "9           10    32    1.64  60.0  ...  400/80       ninguna -0.134628        0.0\n",
            "10          11    59    1.70  67.0  ...  100/89       ninguna  2.178521        0.0\n",
            "11          12    34    1.81  97.0  ...    1/89       ninguna  0.036717        0.0\n",
            "13          14    51    1.77  75.0  ...   25/85  hipertension  1.493144        0.0\n",
            "15          19    28    1.68  68.0  ...  145/81       ninguna -0.477316        0.0\n",
            "\n",
            "[14 rows x 10 columns]\n",
            "    Unnamed: 0  Edad  Altura  Peso  ...      LU  Observación   Edad (z) Altura (z)\n",
            "0            0    25    1.80  83.0  ...  125/89       ninguna -0.734333   0.140642\n",
            "1            1    21    1.89  86.0  ...   35/88       ninguna -1.077022   1.828348\n",
            "2            2    39    1.54  50.0  ...  142/80  hipertension  0.465078   0.000000\n",
            "3            3    49    1.66  70.0  ...  553/83       ninguna  1.321800   0.000000\n",
            "4            4    31    1.70  81.0  ...  495/83  hipertension -0.220300  -1.734587\n",
            "5            5    33    1.74  93.0  ...   25/78       ninguna -0.048956  -0.984495\n",
            "6            6    29    1.81  82.5  ...  445/81       ninguna -0.391644   0.328165\n",
            "7            7    19    1.82  86.3  ...    5/84       ninguna -1.248366   0.515688\n",
            "8            8    20    1.76  75.0  ...    1/81       ninguna -1.162694   0.000000\n",
            "9           10    32    1.64  60.0  ...  400/80       ninguna -0.134628   0.000000\n",
            "10          11    59    1.70  67.0  ...  100/89       ninguna  2.178521   0.000000\n",
            "11          12    34    1.81  97.0  ...    1/89       ninguna  0.036717   0.328165\n",
            "13          14    51    1.77  75.0  ...   25/85  hipertension  1.493144  -0.421927\n",
            "15          19    28    1.68  68.0  ...  145/81       ninguna -0.477316   0.000000\n",
            "\n",
            "[14 rows x 10 columns]\n",
            "    Unnamed: 0  Edad  Altura  Peso  ...      LU  Observación   Edad (z) Altura (z)\n",
            "0            0    25    1.80  83.0  ...  125/89       ninguna -0.734333   0.140642\n",
            "1            1    21    1.89  86.0  ...   35/88       ninguna -1.077022   1.828348\n",
            "2            2    39    1.54  50.0  ...  142/80  hipertension  0.465078  -1.636565\n",
            "3            3    49    1.66  70.0  ...  553/83       ninguna  1.321800   0.056433\n",
            "4            4    31    1.70  81.0  ...  495/83  hipertension -0.220300  -1.734587\n",
            "5            5    33    1.74  93.0  ...   25/78       ninguna -0.048956  -0.984495\n",
            "6            6    29    1.81  82.5  ...  445/81       ninguna -0.391644   0.328165\n",
            "7            7    19    1.82  86.3  ...    5/84       ninguna -1.248366   0.515688\n",
            "8            8    20    1.76  75.0  ...    1/81       ninguna -1.162694   1.467265\n",
            "9           10    32    1.64  60.0  ...  400/80       ninguna -0.134628  -0.225733\n",
            "10          11    59    1.70  67.0  ...  100/89       ninguna  2.178521   0.000000\n",
            "11          12    34    1.81  97.0  ...    1/89       ninguna  0.036717   0.328165\n",
            "13          14    51    1.77  75.0  ...   25/85  hipertension  1.493144  -0.421927\n",
            "15          19    28    1.68  68.0  ...  145/81       ninguna -0.477316   0.338600\n",
            "\n",
            "[14 rows x 10 columns]\n"
          ],
          "name": "stdout"
        },
        {
          "output_type": "stream",
          "text": [
            "/usr/local/lib/python3.7/dist-packages/ipykernel_launcher.py:8: SettingWithCopyWarning: \n",
            "A value is trying to be set on a copy of a slice from a DataFrame\n",
            "\n",
            "See the caveats in the documentation: https://pandas.pydata.org/pandas-docs/stable/user_guide/indexing.html#returning-a-view-versus-a-copy\n",
            "  \n",
            "/usr/local/lib/python3.7/dist-packages/ipykernel_launcher.py:10: SettingWithCopyWarning: \n",
            "A value is trying to be set on a copy of a slice from a DataFrame\n",
            "\n",
            "See the caveats in the documentation: https://pandas.pydata.org/pandas-docs/stable/user_guide/indexing.html#returning-a-view-versus-a-copy\n",
            "  # Remove the CWD from sys.path while we load stuff.\n"
          ],
          "name": "stderr"
        }
      ]
    },
    {
      "cell_type": "markdown",
      "metadata": {
        "id": "iDxy1QD2Try7"
      },
      "source": [
        "Por supuesto, queda el problema de que hacer con el caso 'nb'.\n",
        "Para eso podemos consultar una fuente separada de datos y hacer una modificacion ad-hoc."
      ]
    },
    {
      "cell_type": "code",
      "metadata": {
        "id": "iG2XFQ_DTzsb"
      },
      "source": [
        "df_1['Altura (z)'][10]= 0.59"
      ],
      "execution_count": null,
      "outputs": []
    },
    {
      "cell_type": "code",
      "metadata": {
        "id": "9MBhnAvMKb9L"
      },
      "source": [
        ""
      ],
      "execution_count": null,
      "outputs": []
    },
    {
      "cell_type": "markdown",
      "metadata": {
        "id": "Wg8oQbLlUKs6"
      },
      "source": [
        "Aunque (como notó un compañero en el foro) esta normalización muy posiblemente carezca de sentido. Hay evidentemente una dificultad al tener que elegir como normalizar los datos partiendo de información sobre género en una columna donde se recopilaba el sexo de los sujetos. Ante la información faltante, puede ser necesario identificar al sujeto como parte de uno de los dos grupos (si fuese posible) y sino, quizás no se pueda estandarizar los datos y convenga dejarlos así (entendiendo las consecuencias de hacerlo). \n",
        "\n",
        "Ahora podemos aplicar la normalizacion min-max al peso.\n",
        "\n",
        "Notemos que para poder hacer esto necesitamos haber removido el outlier en el peso, de lo contrario, se arruina el procedimiento."
      ]
    },
    {
      "cell_type": "code",
      "metadata": {
        "id": "5O4NmdFzUpkS",
        "colab": {
          "base_uri": "https://localhost:8080/",
          "height": 207
        },
        "outputId": "c9417626-3961-4262-8d34-ac49834e6a06"
      },
      "source": [
        "df_1['Peso (norm)'] = (df_1['Peso'] - df_1['Peso'].min())/(df_1['Peso'].max() - df_1['Peso'].min())\n",
        "\n",
        "print(df_1)"
      ],
      "execution_count": null,
      "outputs": [
        {
          "output_type": "error",
          "ename": "NameError",
          "evalue": "ignored",
          "traceback": [
            "\u001b[0;31m---------------------------------------------------------------------------\u001b[0m",
            "\u001b[0;31mNameError\u001b[0m                                 Traceback (most recent call last)",
            "\u001b[0;32m<ipython-input-1-0ccad94b3b7f>\u001b[0m in \u001b[0;36m<module>\u001b[0;34m()\u001b[0m\n\u001b[0;32m----> 1\u001b[0;31m \u001b[0mdf_1\u001b[0m\u001b[0;34m[\u001b[0m\u001b[0;34m'Peso (norm)'\u001b[0m\u001b[0;34m]\u001b[0m \u001b[0;34m=\u001b[0m \u001b[0;34m(\u001b[0m\u001b[0mdf_1\u001b[0m\u001b[0;34m[\u001b[0m\u001b[0;34m'Peso'\u001b[0m\u001b[0;34m]\u001b[0m \u001b[0;34m-\u001b[0m \u001b[0mdf_1\u001b[0m\u001b[0;34m[\u001b[0m\u001b[0;34m'Peso'\u001b[0m\u001b[0;34m]\u001b[0m\u001b[0;34m.\u001b[0m\u001b[0mmin\u001b[0m\u001b[0;34m(\u001b[0m\u001b[0;34m)\u001b[0m\u001b[0;34m)\u001b[0m\u001b[0;34m/\u001b[0m\u001b[0;34m(\u001b[0m\u001b[0mdf_1\u001b[0m\u001b[0;34m[\u001b[0m\u001b[0;34m'Peso'\u001b[0m\u001b[0;34m]\u001b[0m\u001b[0;34m.\u001b[0m\u001b[0mmax\u001b[0m\u001b[0;34m(\u001b[0m\u001b[0;34m)\u001b[0m \u001b[0;34m-\u001b[0m \u001b[0mdf_1\u001b[0m\u001b[0;34m[\u001b[0m\u001b[0;34m'Peso'\u001b[0m\u001b[0;34m]\u001b[0m\u001b[0;34m.\u001b[0m\u001b[0mmin\u001b[0m\u001b[0;34m(\u001b[0m\u001b[0;34m)\u001b[0m\u001b[0;34m)\u001b[0m\u001b[0;34m\u001b[0m\u001b[0;34m\u001b[0m\u001b[0m\n\u001b[0m\u001b[1;32m      2\u001b[0m \u001b[0;34m\u001b[0m\u001b[0m\n\u001b[1;32m      3\u001b[0m \u001b[0mprint\u001b[0m\u001b[0;34m(\u001b[0m\u001b[0mdf_1\u001b[0m\u001b[0;34m)\u001b[0m\u001b[0;34m\u001b[0m\u001b[0;34m\u001b[0m\u001b[0m\n",
            "\u001b[0;31mNameError\u001b[0m: name 'df_1' is not defined"
          ]
        }
      ]
    },
    {
      "cell_type": "markdown",
      "metadata": {
        "id": "xmBJd1MbVQPm"
      },
      "source": [
        "Por último, puede que nos interesa calcular alguna normalización especial dependiendo de la aplicación. Quizás queremos comparar el promedio de los alumnos con su promedio histórico, y para eso simplemente lo restamos. "
      ]
    },
    {
      "cell_type": "code",
      "metadata": {
        "id": "DKD7IThJVeBY"
      },
      "source": [
        "historico=8.23\n",
        "df_1['Promedio (historico)'] = df_1['Promedio'] - historico\n",
        "print(df_1)"
      ],
      "execution_count": null,
      "outputs": []
    }
  ]
}
